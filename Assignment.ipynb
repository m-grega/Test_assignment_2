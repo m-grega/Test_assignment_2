{
 "cells": [
  {
   "cell_type": "markdown",
   "id": "57d06e5b-f094-423f-b498-8bfb2a86fbdf",
   "metadata": {},
   "source": [
    "#### Задание: \n",
    "Был проведен A/B тест, в рамках которого для новых пользователей дейтингового приложения\n",
    "из нескольких стран была изменена стоимость премиум-подписки (деньги за подписку списываются ежемесячно до тех пор, пока пользователь её не отменит) при покупке через две новые\n",
    "платежные системы. При этом стоимость пробного периода оставалась прежней.\n",
    "\n",
    "#### Проверьте:\n",
    "1.Был ли эксперимент успешен в целом.\n",
    "\n",
    "2.Проанализируйте, имеет ли нововведение смысл среди каких-либо конкретных групп пользователей."
   ]
  },
  {
   "cell_type": "markdown",
   "id": "b2d932ea-d071-428c-87ad-ddee847dc5b1",
   "metadata": {},
   "source": [
    "#### Имеются три группы: тестовая (test), контрольная 1 (control_1) и контрольная 2 (control_2)\n",
    "\n",
    "#### ФАЙЛЫ:\n",
    "•users_test – информация о пользователях в тестовой группе.\n",
    "<br>•users_control_1 – информация о пользователях в первой контрольной группе.\n",
    "<br>•users_control_2 – информация о пользователях во второй контрольной группе .\n",
    "<br>•transactions_test – информация о платежах пользователей в тестовой группе.\n",
    "<br>•transactions_control_1 – информация о платежах пользователей в первой контрольной группе.\n",
    "<br>•transactions_control_2 – информация о платежах пользователей во второй контрольной группе\n",
    "\n",
    "### users_*.csv – информация о пользователях:\n",
    "<br>•uid – идентификатор пользователя\n",
    "<br>•age – возраст\n",
    "<br>•attraction_coeff – коэффициент привлекательности (от 0 до 1000)\n",
    "<br>•coins – число монеток (внутренняя валюта)\n",
    "<br>•country – страна\n",
    "<br>•visit_days – в какие дни после регистрации пользователь посещал приложение (напр. в 1, затем в 7)\n",
    "<br>•gender – пол\n",
    "<br>•age_filter_start  – фильтр поиска, мин. значение\n",
    "<br>•age_filter_end  – фильтр поиска, макс. значение\n",
    "<br>•views_count – число полученных оценок\n",
    "<br>•was_premium – был ли когда-либо премиум (либо пробный период премиум-статуса, либо купленный за деньги)\n",
    "<br>•is_premium –  является ли премиум\n",
    "<br>•total_revenue – нормированная выручка\n",
    "\n",
    "### transactions_*.csv – информация о платежах пользователей:\n",
    "•uid – идентификатор пользователя\n",
    "<br>•country – страна\n",
    "<br>•joined_at – дата и время регистрации\n",
    "<br>•paid_at – дата и время покупки\n",
    "<br>•revenue – нормированная выручка\n",
    "<br>•payment_id – идентификатор платежа\n",
    "<br>•from_page – откуда пользователь перешел на страницу оплаты\n",
    "<br>•product_type – тип продукта (trial_premium – пробная премиум-подписка, premium_no_trial – премиум-подписка без пробной, coins – подписка за внутреннюю валюту, other_type – другое)"
   ]
  },
  {
   "cell_type": "markdown",
   "id": "005822da",
   "metadata": {},
   "source": [
    "## 1. Загрузка данных"
   ]
  },
  {
   "cell_type": "code",
   "execution_count": 1,
   "id": "0fa024fd",
   "metadata": {},
   "outputs": [],
   "source": [
    "import pandas as pd\n",
    "\n",
    "import numpy as np\n",
    "import matplotlib.pyplot as plt\n",
    "import seaborn as sns\n",
    "\n",
    "import pingouin as pg\n",
    "from pingouin import chi2_independence\n",
    "from scipy import stats\n",
    "import scipy.stats as ss\n",
    "from scipy.stats import norm,mannwhitneyu\n",
    "\n",
    "from tqdm import tqdm"
   ]
  },
  {
   "cell_type": "code",
   "execution_count": 2,
   "id": "44e96dde",
   "metadata": {},
   "outputs": [],
   "source": [
    "#код сверху срабатывает через раз, поэтому оставлю это здесь\n",
    "\n",
    "users_control_1 = pd.read_csv('users_control_1.csv', sep = ';')\n",
    "users_control_2 = pd.read_csv('users_control_2.csv', sep = ';')\n",
    "\n",
    "transactions_control_1 = pd.read_csv('transactions_control_1.csv', parse_dates=['joined_at','paid_at'], sep = ';')\n",
    "transactions_control_2 = pd.read_csv('transactions_control_2.csv', parse_dates=['joined_at','paid_at'], sep = ';')\n",
    "\n",
    "users_test= pd.read_csv('users_test.csv', sep = ';')\n",
    "transactions_test= pd.read_csv('transactions_test.csv', parse_dates=['joined_at','paid_at'], sep = ';')\n"
   ]
  },
  {
   "cell_type": "code",
   "execution_count": 3,
   "id": "d437ec9e",
   "metadata": {},
   "outputs": [
    {
     "data": {
      "text/html": [
       "<div>\n",
       "<style scoped>\n",
       "    .dataframe tbody tr th:only-of-type {\n",
       "        vertical-align: middle;\n",
       "    }\n",
       "\n",
       "    .dataframe tbody tr th {\n",
       "        vertical-align: top;\n",
       "    }\n",
       "\n",
       "    .dataframe thead th {\n",
       "        text-align: right;\n",
       "    }\n",
       "</style>\n",
       "<table border=\"1\" class=\"dataframe\">\n",
       "  <thead>\n",
       "    <tr style=\"text-align: right;\">\n",
       "      <th></th>\n",
       "      <th>uid</th>\n",
       "      <th>age</th>\n",
       "      <th>attraction_coeff</th>\n",
       "      <th>coins</th>\n",
       "      <th>country</th>\n",
       "      <th>visit_days</th>\n",
       "      <th>gender</th>\n",
       "      <th>age_filter_start</th>\n",
       "      <th>age_filter_end</th>\n",
       "      <th>views_count</th>\n",
       "      <th>was_premium</th>\n",
       "      <th>is_premium</th>\n",
       "      <th>total_revenue</th>\n",
       "    </tr>\n",
       "  </thead>\n",
       "  <tbody>\n",
       "    <tr>\n",
       "      <th>0</th>\n",
       "      <td>892309896</td>\n",
       "      <td>27</td>\n",
       "      <td>685</td>\n",
       "      <td>NaN</td>\n",
       "      <td>United States of America</td>\n",
       "      <td>1,2,3,4,5,6,7,8,9,10,11,12,16,17</td>\n",
       "      <td>1</td>\n",
       "      <td>24</td>\n",
       "      <td>30</td>\n",
       "      <td>89</td>\n",
       "      <td>NaN</td>\n",
       "      <td>NaN</td>\n",
       "      <td>0</td>\n",
       "    </tr>\n",
       "    <tr>\n",
       "      <th>1</th>\n",
       "      <td>892044516</td>\n",
       "      <td>27</td>\n",
       "      <td>0</td>\n",
       "      <td>NaN</td>\n",
       "      <td>Germany</td>\n",
       "      <td>NaN</td>\n",
       "      <td>1</td>\n",
       "      <td>24</td>\n",
       "      <td>30</td>\n",
       "      <td>0</td>\n",
       "      <td>NaN</td>\n",
       "      <td>NaN</td>\n",
       "      <td>0</td>\n",
       "    </tr>\n",
       "  </tbody>\n",
       "</table>\n",
       "</div>"
      ],
      "text/plain": [
       "         uid  age  attraction_coeff  coins                   country  \\\n",
       "0  892309896   27               685    NaN  United States of America   \n",
       "1  892044516   27                 0    NaN                   Germany   \n",
       "\n",
       "                         visit_days  gender  age_filter_start  age_filter_end  \\\n",
       "0  1,2,3,4,5,6,7,8,9,10,11,12,16,17       1                24              30   \n",
       "1                               NaN       1                24              30   \n",
       "\n",
       "   views_count  was_premium  is_premium  total_revenue  \n",
       "0           89          NaN         NaN              0  \n",
       "1            0          NaN         NaN              0  "
      ]
     },
     "execution_count": 3,
     "metadata": {},
     "output_type": "execute_result"
    }
   ],
   "source": [
    "users_test.head(2)"
   ]
  },
  {
   "cell_type": "code",
   "execution_count": 4,
   "id": "efb98dbf",
   "metadata": {},
   "outputs": [
    {
     "data": {
      "text/html": [
       "<div>\n",
       "<style scoped>\n",
       "    .dataframe tbody tr th:only-of-type {\n",
       "        vertical-align: middle;\n",
       "    }\n",
       "\n",
       "    .dataframe tbody tr th {\n",
       "        vertical-align: top;\n",
       "    }\n",
       "\n",
       "    .dataframe thead th {\n",
       "        text-align: right;\n",
       "    }\n",
       "</style>\n",
       "<table border=\"1\" class=\"dataframe\">\n",
       "  <thead>\n",
       "    <tr style=\"text-align: right;\">\n",
       "      <th></th>\n",
       "      <th>uid</th>\n",
       "      <th>age</th>\n",
       "      <th>attraction_coeff</th>\n",
       "      <th>coins</th>\n",
       "      <th>country</th>\n",
       "      <th>visit_days</th>\n",
       "      <th>gender</th>\n",
       "      <th>age_filter_start</th>\n",
       "      <th>age_filter_end</th>\n",
       "      <th>views_count</th>\n",
       "      <th>was_premium</th>\n",
       "      <th>is_premium</th>\n",
       "      <th>total_revenue</th>\n",
       "    </tr>\n",
       "  </thead>\n",
       "  <tbody>\n",
       "    <tr>\n",
       "      <th>0</th>\n",
       "      <td>892319115</td>\n",
       "      <td>25</td>\n",
       "      <td>435</td>\n",
       "      <td>NaN</td>\n",
       "      <td>United States of America</td>\n",
       "      <td>1,2,3,4,5,6</td>\n",
       "      <td>0</td>\n",
       "      <td>22</td>\n",
       "      <td>32</td>\n",
       "      <td>982</td>\n",
       "      <td>NaN</td>\n",
       "      <td>NaN</td>\n",
       "      <td>0</td>\n",
       "    </tr>\n",
       "    <tr>\n",
       "      <th>1</th>\n",
       "      <td>891248523</td>\n",
       "      <td>29</td>\n",
       "      <td>500</td>\n",
       "      <td>NaN</td>\n",
       "      <td>United States of America</td>\n",
       "      <td>1,2</td>\n",
       "      <td>1</td>\n",
       "      <td>26</td>\n",
       "      <td>32</td>\n",
       "      <td>12</td>\n",
       "      <td>NaN</td>\n",
       "      <td>NaN</td>\n",
       "      <td>0</td>\n",
       "    </tr>\n",
       "  </tbody>\n",
       "</table>\n",
       "</div>"
      ],
      "text/plain": [
       "         uid  age  attraction_coeff  coins                   country  \\\n",
       "0  892319115   25               435    NaN  United States of America   \n",
       "1  891248523   29               500    NaN  United States of America   \n",
       "\n",
       "    visit_days  gender  age_filter_start  age_filter_end  views_count  \\\n",
       "0  1,2,3,4,5,6       0                22              32          982   \n",
       "1          1,2       1                26              32           12   \n",
       "\n",
       "   was_premium  is_premium  total_revenue  \n",
       "0          NaN         NaN              0  \n",
       "1          NaN         NaN              0  "
      ]
     },
     "execution_count": 4,
     "metadata": {},
     "output_type": "execute_result"
    }
   ],
   "source": [
    "users_control_1.head(2)"
   ]
  },
  {
   "cell_type": "markdown",
   "id": "3d6566ff",
   "metadata": {},
   "source": [
    "## 2. Проверка, очистка и подготовка данных"
   ]
  },
  {
   "cell_type": "markdown",
   "id": "8d74da22",
   "metadata": {},
   "source": [
    "### Проверка пересечения юзеров в тесте и контроле"
   ]
  },
  {
   "cell_type": "markdown",
   "id": "349570f7",
   "metadata": {},
   "source": [
    "Для корректного проведения теста необходимо, чтобы один юзер попадал только в одну группу."
   ]
  },
  {
   "cell_type": "code",
   "execution_count": 5,
   "id": "aefeecc3",
   "metadata": {},
   "outputs": [
    {
     "data": {
      "text/plain": [
       "array([], dtype=int64)"
      ]
     },
     "execution_count": 5,
     "metadata": {},
     "output_type": "execute_result"
    }
   ],
   "source": [
    "np.intersect1d(users_test.uid, users_control_1.uid)"
   ]
  },
  {
   "cell_type": "code",
   "execution_count": 6,
   "id": "6f496fb9",
   "metadata": {},
   "outputs": [
    {
     "data": {
      "text/plain": [
       "array([], dtype=int64)"
      ]
     },
     "execution_count": 6,
     "metadata": {},
     "output_type": "execute_result"
    }
   ],
   "source": [
    "np.intersect1d(users_test.uid, users_control_2.uid)"
   ]
  },
  {
   "cell_type": "code",
   "execution_count": 7,
   "id": "66aa25b7",
   "metadata": {},
   "outputs": [
    {
     "data": {
      "text/plain": [
       "array([], dtype=int64)"
      ]
     },
     "execution_count": 7,
     "metadata": {},
     "output_type": "execute_result"
    }
   ],
   "source": [
    "np.intersect1d(users_control_1.uid, users_control_2.uid)"
   ]
  },
  {
   "cell_type": "markdown",
   "id": "cc0344ab",
   "metadata": {},
   "source": [
    "Пересечений не обнаружено"
   ]
  },
  {
   "cell_type": "markdown",
   "id": "58a5b840",
   "metadata": {},
   "source": [
    "### Проверка корректности дат"
   ]
  },
  {
   "cell_type": "markdown",
   "id": "1c04fc83",
   "metadata": {},
   "source": [
    "Посмотрим, в какой период совершались транзакции (время проведения эксперимента)"
   ]
  },
  {
   "cell_type": "code",
   "execution_count": 8,
   "id": "532b65d2",
   "metadata": {},
   "outputs": [
    {
     "data": {
      "text/plain": [
       "Timestamp('2017-01-11 04:37:00')"
      ]
     },
     "execution_count": 8,
     "metadata": {},
     "output_type": "execute_result"
    }
   ],
   "source": [
    "transactions_test.paid_at.min()"
   ]
  },
  {
   "cell_type": "code",
   "execution_count": 9,
   "id": "c4c00c50",
   "metadata": {},
   "outputs": [
    {
     "data": {
      "text/plain": [
       "Timestamp('2017-12-11 22:06:00')"
      ]
     },
     "execution_count": 9,
     "metadata": {},
     "output_type": "execute_result"
    }
   ],
   "source": [
    "transactions_test.paid_at.max()"
   ]
  },
  {
   "cell_type": "code",
   "execution_count": 10,
   "id": "4dd8d14a",
   "metadata": {},
   "outputs": [
    {
     "data": {
      "text/plain": [
       "Timedelta('334 days 17:29:00')"
      ]
     },
     "execution_count": 10,
     "metadata": {},
     "output_type": "execute_result"
    }
   ],
   "source": [
    "(transactions_test.paid_at.max() - transactions_test.paid_at.min())"
   ]
  },
  {
   "cell_type": "markdown",
   "id": "bf3babd4",
   "metadata": {},
   "source": [
    "Проверим, соответствует ли время регистрации пользователей. Нет ли тех, кто зарегистрировался позже, чем совершил транзакцию "
   ]
  },
  {
   "cell_type": "code",
   "execution_count": 11,
   "id": "6efe1e00",
   "metadata": {},
   "outputs": [
    {
     "data": {
      "text/plain": [
       "Timestamp('2017-10-31 22:17:00')"
      ]
     },
     "execution_count": 11,
     "metadata": {},
     "output_type": "execute_result"
    }
   ],
   "source": [
    "transactions_control_1.joined_at.max()"
   ]
  },
  {
   "cell_type": "code",
   "execution_count": 12,
   "id": "3b8a6211",
   "metadata": {},
   "outputs": [
    {
     "data": {
      "text/plain": [
       "Timestamp('2017-10-31 17:43:00')"
      ]
     },
     "execution_count": 12,
     "metadata": {},
     "output_type": "execute_result"
    }
   ],
   "source": [
    "transactions_control_2.joined_at.max()"
   ]
  },
  {
   "cell_type": "code",
   "execution_count": 13,
   "id": "f9e741f4",
   "metadata": {},
   "outputs": [
    {
     "data": {
      "text/plain": [
       "Timestamp('2015-01-19 11:49:00')"
      ]
     },
     "execution_count": 13,
     "metadata": {},
     "output_type": "execute_result"
    }
   ],
   "source": [
    "transactions_control_1.joined_at.min()"
   ]
  },
  {
   "cell_type": "code",
   "execution_count": 14,
   "id": "3d9dc18f",
   "metadata": {},
   "outputs": [
    {
     "data": {
      "text/plain": [
       "Timestamp('2017-01-11 08:36:00')"
      ]
     },
     "execution_count": 14,
     "metadata": {},
     "output_type": "execute_result"
    }
   ],
   "source": [
    "transactions_control_2.joined_at.min()"
   ]
  },
  {
   "cell_type": "markdown",
   "id": "79f9c471",
   "metadata": {},
   "source": [
    "Как видно, в группе transactions_control_1 находятся данные о пользователях, зарегистрированных 2015 году, что не подходит под условия эксперимента. Уберем таких пользователей."
   ]
  },
  {
   "cell_type": "code",
   "execution_count": 15,
   "id": "10be6c89",
   "metadata": {},
   "outputs": [],
   "source": [
    "join_date = pd.to_datetime('2017-01-01')"
   ]
  },
  {
   "cell_type": "code",
   "execution_count": 16,
   "id": "073cf1fb",
   "metadata": {},
   "outputs": [
    {
     "data": {
      "text/html": [
       "<div>\n",
       "<style scoped>\n",
       "    .dataframe tbody tr th:only-of-type {\n",
       "        vertical-align: middle;\n",
       "    }\n",
       "\n",
       "    .dataframe tbody tr th {\n",
       "        vertical-align: top;\n",
       "    }\n",
       "\n",
       "    .dataframe thead th {\n",
       "        text-align: right;\n",
       "    }\n",
       "</style>\n",
       "<table border=\"1\" class=\"dataframe\">\n",
       "  <thead>\n",
       "    <tr style=\"text-align: right;\">\n",
       "      <th></th>\n",
       "      <th>uid</th>\n",
       "      <th>country</th>\n",
       "      <th>joined_at</th>\n",
       "      <th>paid_at</th>\n",
       "      <th>revenue</th>\n",
       "      <th>payment_id</th>\n",
       "      <th>from_page</th>\n",
       "      <th>product_type</th>\n",
       "    </tr>\n",
       "  </thead>\n",
       "  <tbody>\n",
       "    <tr>\n",
       "      <th>65</th>\n",
       "      <td>960936960.0</td>\n",
       "      <td>Russian Federation</td>\n",
       "      <td>2015-01-19 11:49:00</td>\n",
       "      <td>2016-12-14 17:30:00</td>\n",
       "      <td>26.0</td>\n",
       "      <td>0.0</td>\n",
       "      <td>refund_VP</td>\n",
       "      <td>other_type</td>\n",
       "    </tr>\n",
       "    <tr>\n",
       "      <th>101</th>\n",
       "      <td>960936960.0</td>\n",
       "      <td>Russian Federation</td>\n",
       "      <td>2015-01-19 11:49:00</td>\n",
       "      <td>2016-12-14 17:35:00</td>\n",
       "      <td>637.0</td>\n",
       "      <td>0.0</td>\n",
       "      <td>refung_AP</td>\n",
       "      <td>other_type</td>\n",
       "    </tr>\n",
       "    <tr>\n",
       "      <th>224</th>\n",
       "      <td>960936960.0</td>\n",
       "      <td>Russian Federation</td>\n",
       "      <td>2015-01-19 11:49:00</td>\n",
       "      <td>2016-12-14 16:16:00</td>\n",
       "      <td>143.0</td>\n",
       "      <td>0.0</td>\n",
       "      <td>refund_WP</td>\n",
       "      <td>other_type</td>\n",
       "    </tr>\n",
       "  </tbody>\n",
       "</table>\n",
       "</div>"
      ],
      "text/plain": [
       "             uid             country           joined_at             paid_at  \\\n",
       "65   960936960.0  Russian Federation 2015-01-19 11:49:00 2016-12-14 17:30:00   \n",
       "101  960936960.0  Russian Federation 2015-01-19 11:49:00 2016-12-14 17:35:00   \n",
       "224  960936960.0  Russian Federation 2015-01-19 11:49:00 2016-12-14 16:16:00   \n",
       "\n",
       "     revenue  payment_id  from_page product_type  \n",
       "65      26.0         0.0  refund_VP   other_type  \n",
       "101    637.0         0.0  refung_AP   other_type  \n",
       "224    143.0         0.0  refund_WP   other_type  "
      ]
     },
     "execution_count": 16,
     "metadata": {},
     "output_type": "execute_result"
    }
   ],
   "source": [
    "transactions_control_1[transactions_control_1.joined_at < join_date]"
   ]
  },
  {
   "cell_type": "markdown",
   "id": "1153e739",
   "metadata": {},
   "source": [
    "Это всего один пользователь, которого можно удалить"
   ]
  },
  {
   "cell_type": "code",
   "execution_count": 17,
   "id": "40774d43",
   "metadata": {},
   "outputs": [],
   "source": [
    "transactions_control_1 =transactions_control_1[transactions_control_1.uid != 960936960.0]"
   ]
  },
  {
   "cell_type": "markdown",
   "id": "4016f559",
   "metadata": {},
   "source": [
    "Проверим, нет ли записей, где транзакция была совершена до момента регистрации пользователя. Такие данные скорее всего будут ошибочно сформированными."
   ]
  },
  {
   "cell_type": "code",
   "execution_count": 18,
   "id": "e8d07ebc",
   "metadata": {},
   "outputs": [
    {
     "data": {
      "text/plain": [
       "(55, 8)"
      ]
     },
     "execution_count": 18,
     "metadata": {},
     "output_type": "execute_result"
    }
   ],
   "source": [
    "bad_log = transactions_control_1[transactions_control_1.joined_at > transactions_control_1.paid_at]\n",
    "bad_log.shape"
   ]
  },
  {
   "cell_type": "code",
   "execution_count": 19,
   "id": "56fbcd72",
   "metadata": {},
   "outputs": [
    {
     "data": {
      "text/plain": [
       "(60, 8)"
      ]
     },
     "execution_count": 19,
     "metadata": {},
     "output_type": "execute_result"
    }
   ],
   "source": [
    "bad_log2 = transactions_control_2[transactions_control_2.joined_at > transactions_control_2.paid_at]\n",
    "bad_log2.shape"
   ]
  },
  {
   "cell_type": "code",
   "execution_count": 20,
   "id": "3a21a9cf",
   "metadata": {},
   "outputs": [
    {
     "data": {
      "text/plain": [
       "(47, 8)"
      ]
     },
     "execution_count": 20,
     "metadata": {},
     "output_type": "execute_result"
    }
   ],
   "source": [
    "bad_log3 = transactions_test[transactions_test.joined_at > transactions_test.paid_at]\n",
    "bad_log3.shape"
   ]
  },
  {
   "cell_type": "code",
   "execution_count": 21,
   "id": "31b0a8f8",
   "metadata": {},
   "outputs": [
    {
     "data": {
      "text/plain": [
       "array([11])"
      ]
     },
     "execution_count": 21,
     "metadata": {},
     "output_type": "execute_result"
    }
   ],
   "source": [
    "bad_log.paid_at.dt.day.unique()"
   ]
  },
  {
   "cell_type": "code",
   "execution_count": 22,
   "id": "19168c4b",
   "metadata": {},
   "outputs": [
    {
     "data": {
      "text/plain": [
       "array([11])"
      ]
     },
     "execution_count": 22,
     "metadata": {},
     "output_type": "execute_result"
    }
   ],
   "source": [
    "bad_log2.paid_at.dt.day.unique()"
   ]
  },
  {
   "cell_type": "code",
   "execution_count": 23,
   "id": "5b6e88a2",
   "metadata": {},
   "outputs": [
    {
     "data": {
      "text/plain": [
       "array([11])"
      ]
     },
     "execution_count": 23,
     "metadata": {},
     "output_type": "execute_result"
    }
   ],
   "source": [
    "bad_log3.paid_at.dt.day.unique()"
   ]
  },
  {
   "cell_type": "markdown",
   "id": "3bbfad21",
   "metadata": {},
   "source": [
    "Видим, что таких записей довольно много. Стоит разобраться с тем, как такое могло произойти и нет ли багов в логировании данных. Если обратить внимание на даты, то можно заметить, что во всех  датах фигурирует число 11 в качестве дня. Если предположить, что это мог бы быть месяц, тогда все встает на свои места - даты считаны неверно.  Можно переформатировать эти случаи в правильную дату, но поскольку мы не работаем со строгой временной последовательностью это не сильно принципиально. "
   ]
  },
  {
   "cell_type": "markdown",
   "id": "5a8b8429",
   "metadata": {},
   "source": [
    "### Проверка на дубликаты"
   ]
  },
  {
   "cell_type": "code",
   "execution_count": 24,
   "id": "f65f3591",
   "metadata": {},
   "outputs": [
    {
     "data": {
      "text/html": [
       "<div>\n",
       "<style scoped>\n",
       "    .dataframe tbody tr th:only-of-type {\n",
       "        vertical-align: middle;\n",
       "    }\n",
       "\n",
       "    .dataframe tbody tr th {\n",
       "        vertical-align: top;\n",
       "    }\n",
       "\n",
       "    .dataframe thead th {\n",
       "        text-align: right;\n",
       "    }\n",
       "</style>\n",
       "<table border=\"1\" class=\"dataframe\">\n",
       "  <thead>\n",
       "    <tr style=\"text-align: right;\">\n",
       "      <th></th>\n",
       "      <th>uid</th>\n",
       "      <th>country</th>\n",
       "      <th>joined_at</th>\n",
       "      <th>paid_at</th>\n",
       "      <th>revenue</th>\n",
       "      <th>payment_id</th>\n",
       "      <th>from_page</th>\n",
       "      <th>product_type</th>\n",
       "    </tr>\n",
       "  </thead>\n",
       "  <tbody>\n",
       "    <tr>\n",
       "      <th>47</th>\n",
       "      <td>892333905.0</td>\n",
       "      <td>Italy</td>\n",
       "      <td>2017-10-16 01:38:00</td>\n",
       "      <td>2017-10-16 01:44:00</td>\n",
       "      <td>3783.0</td>\n",
       "      <td>67.0</td>\n",
       "      <td>menu</td>\n",
       "      <td>other_type</td>\n",
       "    </tr>\n",
       "    <tr>\n",
       "      <th>88</th>\n",
       "      <td>892333905.0</td>\n",
       "      <td>Italy</td>\n",
       "      <td>2017-10-16 01:38:00</td>\n",
       "      <td>2017-10-16 01:58:00</td>\n",
       "      <td>3783.0</td>\n",
       "      <td>67.0</td>\n",
       "      <td>empty_admins</td>\n",
       "      <td>other_type</td>\n",
       "    </tr>\n",
       "    <tr>\n",
       "      <th>93</th>\n",
       "      <td>891367521.0</td>\n",
       "      <td>Italy</td>\n",
       "      <td>2017-05-11 02:37:00</td>\n",
       "      <td>2017-10-11 01:52:00</td>\n",
       "      <td>1469.0</td>\n",
       "      <td>19.0</td>\n",
       "      <td>sympathy</td>\n",
       "      <td>other_type</td>\n",
       "    </tr>\n",
       "    <tr>\n",
       "      <th>169</th>\n",
       "      <td>892333905.0</td>\n",
       "      <td>Italy</td>\n",
       "      <td>2017-10-16 01:38:00</td>\n",
       "      <td>2017-10-16 01:44:00</td>\n",
       "      <td>3783.0</td>\n",
       "      <td>67.0</td>\n",
       "      <td>menu</td>\n",
       "      <td>other_type</td>\n",
       "    </tr>\n",
       "    <tr>\n",
       "      <th>176</th>\n",
       "      <td>892207959.0</td>\n",
       "      <td>France</td>\n",
       "      <td>2017-10-18 18:30:00</td>\n",
       "      <td>2017-10-22 04:49:00</td>\n",
       "      <td>1261.0</td>\n",
       "      <td>19.0</td>\n",
       "      <td>empty_likes</td>\n",
       "      <td>coins</td>\n",
       "    </tr>\n",
       "    <tr>\n",
       "      <th>...</th>\n",
       "      <td>...</td>\n",
       "      <td>...</td>\n",
       "      <td>...</td>\n",
       "      <td>...</td>\n",
       "      <td>...</td>\n",
       "      <td>...</td>\n",
       "      <td>...</td>\n",
       "      <td>...</td>\n",
       "    </tr>\n",
       "    <tr>\n",
       "      <th>1002</th>\n",
       "      <td>NaN</td>\n",
       "      <td>NaN</td>\n",
       "      <td>NaT</td>\n",
       "      <td>NaT</td>\n",
       "      <td>NaN</td>\n",
       "      <td>NaN</td>\n",
       "      <td>NaN</td>\n",
       "      <td>NaN</td>\n",
       "    </tr>\n",
       "    <tr>\n",
       "      <th>1003</th>\n",
       "      <td>NaN</td>\n",
       "      <td>NaN</td>\n",
       "      <td>NaT</td>\n",
       "      <td>NaT</td>\n",
       "      <td>NaN</td>\n",
       "      <td>NaN</td>\n",
       "      <td>NaN</td>\n",
       "      <td>NaN</td>\n",
       "    </tr>\n",
       "    <tr>\n",
       "      <th>1004</th>\n",
       "      <td>NaN</td>\n",
       "      <td>NaN</td>\n",
       "      <td>NaT</td>\n",
       "      <td>NaT</td>\n",
       "      <td>NaN</td>\n",
       "      <td>NaN</td>\n",
       "      <td>NaN</td>\n",
       "      <td>NaN</td>\n",
       "    </tr>\n",
       "    <tr>\n",
       "      <th>1005</th>\n",
       "      <td>NaN</td>\n",
       "      <td>NaN</td>\n",
       "      <td>NaT</td>\n",
       "      <td>NaT</td>\n",
       "      <td>NaN</td>\n",
       "      <td>NaN</td>\n",
       "      <td>NaN</td>\n",
       "      <td>NaN</td>\n",
       "    </tr>\n",
       "    <tr>\n",
       "      <th>1006</th>\n",
       "      <td>NaN</td>\n",
       "      <td>NaN</td>\n",
       "      <td>NaT</td>\n",
       "      <td>NaT</td>\n",
       "      <td>NaN</td>\n",
       "      <td>NaN</td>\n",
       "      <td>NaN</td>\n",
       "      <td>NaN</td>\n",
       "    </tr>\n",
       "  </tbody>\n",
       "</table>\n",
       "<p>650 rows × 8 columns</p>\n",
       "</div>"
      ],
      "text/plain": [
       "              uid country           joined_at             paid_at  revenue  \\\n",
       "47    892333905.0   Italy 2017-10-16 01:38:00 2017-10-16 01:44:00   3783.0   \n",
       "88    892333905.0   Italy 2017-10-16 01:38:00 2017-10-16 01:58:00   3783.0   \n",
       "93    891367521.0   Italy 2017-05-11 02:37:00 2017-10-11 01:52:00   1469.0   \n",
       "169   892333905.0   Italy 2017-10-16 01:38:00 2017-10-16 01:44:00   3783.0   \n",
       "176   892207959.0  France 2017-10-18 18:30:00 2017-10-22 04:49:00   1261.0   \n",
       "...           ...     ...                 ...                 ...      ...   \n",
       "1002          NaN     NaN                 NaT                 NaT      NaN   \n",
       "1003          NaN     NaN                 NaT                 NaT      NaN   \n",
       "1004          NaN     NaN                 NaT                 NaT      NaN   \n",
       "1005          NaN     NaN                 NaT                 NaT      NaN   \n",
       "1006          NaN     NaN                 NaT                 NaT      NaN   \n",
       "\n",
       "      payment_id     from_page product_type  \n",
       "47          67.0          menu   other_type  \n",
       "88          67.0  empty_admins   other_type  \n",
       "93          19.0      sympathy   other_type  \n",
       "169         67.0          menu   other_type  \n",
       "176         19.0   empty_likes        coins  \n",
       "...          ...           ...          ...  \n",
       "1002         NaN           NaN          NaN  \n",
       "1003         NaN           NaN          NaN  \n",
       "1004         NaN           NaN          NaN  \n",
       "1005         NaN           NaN          NaN  \n",
       "1006         NaN           NaN          NaN  \n",
       "\n",
       "[650 rows x 8 columns]"
      ]
     },
     "execution_count": 24,
     "metadata": {},
     "output_type": "execute_result"
    }
   ],
   "source": [
    "transactions_control_1[transactions_control_1.duplicated()]"
   ]
  },
  {
   "cell_type": "code",
   "execution_count": 25,
   "id": "2a704f3b",
   "metadata": {},
   "outputs": [
    {
     "data": {
      "text/html": [
       "<div>\n",
       "<style scoped>\n",
       "    .dataframe tbody tr th:only-of-type {\n",
       "        vertical-align: middle;\n",
       "    }\n",
       "\n",
       "    .dataframe tbody tr th {\n",
       "        vertical-align: top;\n",
       "    }\n",
       "\n",
       "    .dataframe thead th {\n",
       "        text-align: right;\n",
       "    }\n",
       "</style>\n",
       "<table border=\"1\" class=\"dataframe\">\n",
       "  <thead>\n",
       "    <tr style=\"text-align: right;\">\n",
       "      <th></th>\n",
       "      <th>uid</th>\n",
       "      <th>country</th>\n",
       "      <th>joined_at</th>\n",
       "      <th>paid_at</th>\n",
       "      <th>revenue</th>\n",
       "      <th>payment_id</th>\n",
       "      <th>from_page</th>\n",
       "      <th>product_type</th>\n",
       "    </tr>\n",
       "  </thead>\n",
       "  <tbody>\n",
       "    <tr>\n",
       "      <th>86</th>\n",
       "      <td>891862596</td>\n",
       "      <td>Italy</td>\n",
       "      <td>2017-10-26 01:40:00</td>\n",
       "      <td>2017-10-30 09:01:00</td>\n",
       "      <td>1261</td>\n",
       "      <td>19</td>\n",
       "      <td>empty_likes</td>\n",
       "      <td>coins</td>\n",
       "    </tr>\n",
       "    <tr>\n",
       "      <th>235</th>\n",
       "      <td>892064328</td>\n",
       "      <td>United States of America</td>\n",
       "      <td>2017-10-21 20:54:00</td>\n",
       "      <td>2017-10-22 01:30:00</td>\n",
       "      <td>6305</td>\n",
       "      <td>19</td>\n",
       "      <td>empty_likes</td>\n",
       "      <td>coins</td>\n",
       "    </tr>\n",
       "    <tr>\n",
       "      <th>241</th>\n",
       "      <td>892009254</td>\n",
       "      <td>Italy</td>\n",
       "      <td>2017-10-22 22:57:00</td>\n",
       "      <td>2017-10-23 00:06:00</td>\n",
       "      <td>2353</td>\n",
       "      <td>67</td>\n",
       "      <td>empty_likes</td>\n",
       "      <td>other_type</td>\n",
       "    </tr>\n",
       "    <tr>\n",
       "      <th>288</th>\n",
       "      <td>892062660</td>\n",
       "      <td>United States of America</td>\n",
       "      <td>2017-10-21 21:28:00</td>\n",
       "      <td>2017-10-31 00:53:00</td>\n",
       "      <td>1261</td>\n",
       "      <td>19</td>\n",
       "      <td>empty_likes</td>\n",
       "      <td>coins</td>\n",
       "    </tr>\n",
       "    <tr>\n",
       "      <th>321</th>\n",
       "      <td>892045743</td>\n",
       "      <td>Israel</td>\n",
       "      <td>2017-10-22 07:04:00</td>\n",
       "      <td>2017-10-23 20:17:00</td>\n",
       "      <td>1261</td>\n",
       "      <td>19</td>\n",
       "      <td>empty_likes</td>\n",
       "      <td>coins</td>\n",
       "    </tr>\n",
       "  </tbody>\n",
       "</table>\n",
       "</div>"
      ],
      "text/plain": [
       "           uid                   country           joined_at  \\\n",
       "86   891862596                     Italy 2017-10-26 01:40:00   \n",
       "235  892064328  United States of America 2017-10-21 20:54:00   \n",
       "241  892009254                     Italy 2017-10-22 22:57:00   \n",
       "288  892062660  United States of America 2017-10-21 21:28:00   \n",
       "321  892045743                    Israel 2017-10-22 07:04:00   \n",
       "\n",
       "                paid_at  revenue  payment_id    from_page product_type  \n",
       "86  2017-10-30 09:01:00     1261          19  empty_likes        coins  \n",
       "235 2017-10-22 01:30:00     6305          19  empty_likes        coins  \n",
       "241 2017-10-23 00:06:00     2353          67  empty_likes   other_type  \n",
       "288 2017-10-31 00:53:00     1261          19  empty_likes        coins  \n",
       "321 2017-10-23 20:17:00     1261          19  empty_likes        coins  "
      ]
     },
     "execution_count": 25,
     "metadata": {},
     "output_type": "execute_result"
    }
   ],
   "source": [
    "transactions_control_2[transactions_control_2.duplicated()]"
   ]
  },
  {
   "cell_type": "code",
   "execution_count": 26,
   "id": "ce5bb82a",
   "metadata": {},
   "outputs": [
    {
     "data": {
      "text/html": [
       "<div>\n",
       "<style scoped>\n",
       "    .dataframe tbody tr th:only-of-type {\n",
       "        vertical-align: middle;\n",
       "    }\n",
       "\n",
       "    .dataframe tbody tr th {\n",
       "        vertical-align: top;\n",
       "    }\n",
       "\n",
       "    .dataframe thead th {\n",
       "        text-align: right;\n",
       "    }\n",
       "</style>\n",
       "<table border=\"1\" class=\"dataframe\">\n",
       "  <thead>\n",
       "    <tr style=\"text-align: right;\">\n",
       "      <th></th>\n",
       "      <th>uid</th>\n",
       "      <th>country</th>\n",
       "      <th>joined_at</th>\n",
       "      <th>paid_at</th>\n",
       "      <th>revenue</th>\n",
       "      <th>payment_id</th>\n",
       "      <th>from_page</th>\n",
       "      <th>product_type</th>\n",
       "    </tr>\n",
       "  </thead>\n",
       "  <tbody>\n",
       "    <tr>\n",
       "      <th>55</th>\n",
       "      <td>892236423</td>\n",
       "      <td>United States of America</td>\n",
       "      <td>2017-10-18 01:09:00</td>\n",
       "      <td>2017-10-23 00:15:00</td>\n",
       "      <td>3783</td>\n",
       "      <td>67</td>\n",
       "      <td>menu</td>\n",
       "      <td>other_type</td>\n",
       "    </tr>\n",
       "    <tr>\n",
       "      <th>96</th>\n",
       "      <td>892050108</td>\n",
       "      <td>Israel</td>\n",
       "      <td>2017-10-22 03:02:00</td>\n",
       "      <td>2017-10-23 02:53:00</td>\n",
       "      <td>1261</td>\n",
       "      <td>19</td>\n",
       "      <td>empty_likes</td>\n",
       "      <td>coins</td>\n",
       "    </tr>\n",
       "    <tr>\n",
       "      <th>127</th>\n",
       "      <td>892236423</td>\n",
       "      <td>United States of America</td>\n",
       "      <td>2017-10-18 01:09:00</td>\n",
       "      <td>2017-10-27 22:38:00</td>\n",
       "      <td>3783</td>\n",
       "      <td>67</td>\n",
       "      <td>menu</td>\n",
       "      <td>other_type</td>\n",
       "    </tr>\n",
       "    <tr>\n",
       "      <th>158</th>\n",
       "      <td>891508155</td>\n",
       "      <td>Latvia</td>\n",
       "      <td>2017-02-11 09:46:00</td>\n",
       "      <td>2017-03-11 22:06:00</td>\n",
       "      <td>936</td>\n",
       "      <td>19</td>\n",
       "      <td>empty_likes</td>\n",
       "      <td>coins</td>\n",
       "    </tr>\n",
       "    <tr>\n",
       "      <th>188</th>\n",
       "      <td>892236423</td>\n",
       "      <td>United States of America</td>\n",
       "      <td>2017-10-18 01:09:00</td>\n",
       "      <td>2017-10-22 22:08:00</td>\n",
       "      <td>1261</td>\n",
       "      <td>19</td>\n",
       "      <td>empty_likes</td>\n",
       "      <td>coins</td>\n",
       "    </tr>\n",
       "    <tr>\n",
       "      <th>205</th>\n",
       "      <td>892202526</td>\n",
       "      <td>United States of America</td>\n",
       "      <td>2017-10-18 20:34:00</td>\n",
       "      <td>2017-10-20 19:54:00</td>\n",
       "      <td>897</td>\n",
       "      <td>19</td>\n",
       "      <td>menu</td>\n",
       "      <td>coins</td>\n",
       "    </tr>\n",
       "    <tr>\n",
       "      <th>243</th>\n",
       "      <td>892339626</td>\n",
       "      <td>United States of America</td>\n",
       "      <td>2017-10-15 23:21:00</td>\n",
       "      <td>2017-10-20 18:14:00</td>\n",
       "      <td>754</td>\n",
       "      <td>19</td>\n",
       "      <td>empty_likes</td>\n",
       "      <td>coins</td>\n",
       "    </tr>\n",
       "  </tbody>\n",
       "</table>\n",
       "</div>"
      ],
      "text/plain": [
       "           uid                   country           joined_at  \\\n",
       "55   892236423  United States of America 2017-10-18 01:09:00   \n",
       "96   892050108                    Israel 2017-10-22 03:02:00   \n",
       "127  892236423  United States of America 2017-10-18 01:09:00   \n",
       "158  891508155                    Latvia 2017-02-11 09:46:00   \n",
       "188  892236423  United States of America 2017-10-18 01:09:00   \n",
       "205  892202526  United States of America 2017-10-18 20:34:00   \n",
       "243  892339626  United States of America 2017-10-15 23:21:00   \n",
       "\n",
       "                paid_at  revenue  payment_id    from_page product_type  \n",
       "55  2017-10-23 00:15:00     3783          67         menu   other_type  \n",
       "96  2017-10-23 02:53:00     1261          19  empty_likes        coins  \n",
       "127 2017-10-27 22:38:00     3783          67         menu   other_type  \n",
       "158 2017-03-11 22:06:00      936          19  empty_likes        coins  \n",
       "188 2017-10-22 22:08:00     1261          19  empty_likes        coins  \n",
       "205 2017-10-20 19:54:00      897          19         menu        coins  \n",
       "243 2017-10-20 18:14:00      754          19  empty_likes        coins  "
      ]
     },
     "execution_count": 26,
     "metadata": {},
     "output_type": "execute_result"
    }
   ],
   "source": [
    "transactions_test[transactions_test.duplicated()]"
   ]
  },
  {
   "cell_type": "code",
   "execution_count": 27,
   "id": "237bd510",
   "metadata": {},
   "outputs": [],
   "source": [
    "transactions_test = transactions_test.drop_duplicates()\n",
    "transactions_control_1 = transactions_control_1.drop_duplicates()\n",
    "transactions_control_2 = transactions_control_2.drop_duplicates()"
   ]
  },
  {
   "cell_type": "markdown",
   "id": "896bd86f",
   "metadata": {},
   "source": [
    "Среди данных users дубликаты не обнаружены. Сделаем проверку на выбросы и аномалии, так как они могут сильно виять на результаты теста."
   ]
  },
  {
   "cell_type": "markdown",
   "id": "e1b40fb5",
   "metadata": {},
   "source": [
    "### Проверка на пустые значения"
   ]
  },
  {
   "cell_type": "code",
   "execution_count": 28,
   "id": "e23ce38d",
   "metadata": {},
   "outputs": [
    {
     "data": {
      "text/plain": [
       "uid                    0\n",
       "age                    0\n",
       "attraction_coeff       0\n",
       "coins               4259\n",
       "country                0\n",
       "visit_days          1330\n",
       "gender                 0\n",
       "age_filter_start       0\n",
       "age_filter_end         0\n",
       "views_count            0\n",
       "was_premium         3900\n",
       "is_premium          4151\n",
       "total_revenue          0\n",
       "dtype: int64"
      ]
     },
     "execution_count": 28,
     "metadata": {},
     "output_type": "execute_result"
    }
   ],
   "source": [
    "users_test.isna().sum()"
   ]
  },
  {
   "cell_type": "code",
   "execution_count": 29,
   "id": "553b54a5",
   "metadata": {},
   "outputs": [
    {
     "data": {
      "text/plain": [
       "uid                    0\n",
       "age                    0\n",
       "attraction_coeff       0\n",
       "coins               4280\n",
       "country                0\n",
       "visit_days          1324\n",
       "gender                 0\n",
       "age_filter_start       0\n",
       "age_filter_end         0\n",
       "views_count            0\n",
       "was_premium         3904\n",
       "is_premium          4148\n",
       "total_revenue          0\n",
       "dtype: int64"
      ]
     },
     "execution_count": 29,
     "metadata": {},
     "output_type": "execute_result"
    }
   ],
   "source": [
    "users_control_1.isna().sum()"
   ]
  },
  {
   "cell_type": "code",
   "execution_count": 30,
   "id": "ef783456",
   "metadata": {},
   "outputs": [
    {
     "data": {
      "text/plain": [
       "uid                    0\n",
       "age                    0\n",
       "attraction_coeff       0\n",
       "coins               4203\n",
       "country                0\n",
       "visit_days          1364\n",
       "gender                 0\n",
       "age_filter_start       0\n",
       "age_filter_end         0\n",
       "views_count            0\n",
       "was_premium         3853\n",
       "is_premium          4073\n",
       "total_revenue          0\n",
       "dtype: int64"
      ]
     },
     "execution_count": 30,
     "metadata": {},
     "output_type": "execute_result"
    }
   ],
   "source": [
    "users_control_2.isna().sum()"
   ]
  },
  {
   "cell_type": "code",
   "execution_count": 31,
   "id": "dd144d03",
   "metadata": {},
   "outputs": [],
   "source": [
    "#Заполним колонки coins, was_premium, is_premium нулями (вероятно, если эти поля не заполнены, то пользователь вряд ли является премиумом и имеет монетки\n",
    "def filling_na(df):\n",
    "    for col in ['coins', 'was_premium', 'is_premium']:\n",
    "        df[col] = df[col].fillna(0)\n",
    "    return df"
   ]
  },
  {
   "cell_type": "code",
   "execution_count": 32,
   "id": "0846aa72",
   "metadata": {},
   "outputs": [],
   "source": [
    "users_test, users_control_1, users_control_2 = (filling_na(df) for df in [users_test, users_control_1, users_control_2])"
   ]
  },
  {
   "cell_type": "code",
   "execution_count": 33,
   "id": "46b0ff2b",
   "metadata": {},
   "outputs": [
    {
     "data": {
      "text/plain": [
       "uid             1\n",
       "country         1\n",
       "joined_at       1\n",
       "paid_at         1\n",
       "revenue         1\n",
       "payment_id      1\n",
       "from_page       1\n",
       "product_type    1\n",
       "dtype: int64"
      ]
     },
     "execution_count": 33,
     "metadata": {},
     "output_type": "execute_result"
    }
   ],
   "source": [
    "transactions_control_1.isna().sum()"
   ]
  },
  {
   "cell_type": "code",
   "execution_count": 34,
   "id": "889ed471",
   "metadata": {},
   "outputs": [],
   "source": [
    "transactions_control_1.dropna(inplace = True)"
   ]
  },
  {
   "cell_type": "code",
   "execution_count": 35,
   "id": "0f476416",
   "metadata": {},
   "outputs": [
    {
     "data": {
      "text/plain": [
       "uid             0\n",
       "country         0\n",
       "joined_at       0\n",
       "paid_at         0\n",
       "revenue         0\n",
       "payment_id      0\n",
       "from_page       0\n",
       "product_type    0\n",
       "dtype: int64"
      ]
     },
     "execution_count": 35,
     "metadata": {},
     "output_type": "execute_result"
    }
   ],
   "source": [
    "transactions_control_1.isna().sum()"
   ]
  },
  {
   "cell_type": "code",
   "execution_count": 36,
   "id": "606d3cac",
   "metadata": {},
   "outputs": [
    {
     "data": {
      "text/plain": [
       "uid             0\n",
       "country         0\n",
       "joined_at       0\n",
       "paid_at         0\n",
       "revenue         0\n",
       "payment_id      0\n",
       "from_page       0\n",
       "product_type    0\n",
       "dtype: int64"
      ]
     },
     "execution_count": 36,
     "metadata": {},
     "output_type": "execute_result"
    }
   ],
   "source": [
    "transactions_control_2.isna().sum()"
   ]
  },
  {
   "cell_type": "code",
   "execution_count": 37,
   "id": "74b9d158",
   "metadata": {
    "scrolled": true
   },
   "outputs": [
    {
     "data": {
      "text/plain": [
       "uid             0\n",
       "country         0\n",
       "joined_at       0\n",
       "paid_at         0\n",
       "revenue         0\n",
       "payment_id      0\n",
       "from_page       0\n",
       "product_type    0\n",
       "dtype: int64"
      ]
     },
     "execution_count": 37,
     "metadata": {},
     "output_type": "execute_result"
    }
   ],
   "source": [
    "transactions_test.isna().sum()"
   ]
  },
  {
   "cell_type": "markdown",
   "id": "b227add7",
   "metadata": {},
   "source": [
    "### Проверка типов данных"
   ]
  },
  {
   "cell_type": "code",
   "execution_count": 38,
   "id": "44dcfc32",
   "metadata": {},
   "outputs": [
    {
     "data": {
      "text/plain": [
       "uid                    float64\n",
       "country                 object\n",
       "joined_at       datetime64[ns]\n",
       "paid_at         datetime64[ns]\n",
       "revenue                float64\n",
       "payment_id             float64\n",
       "from_page               object\n",
       "product_type            object\n",
       "dtype: object"
      ]
     },
     "execution_count": 38,
     "metadata": {},
     "output_type": "execute_result"
    }
   ],
   "source": [
    "transactions_control_1.dtypes"
   ]
  },
  {
   "cell_type": "code",
   "execution_count": 39,
   "id": "0980062b",
   "metadata": {},
   "outputs": [],
   "source": [
    "transactions_control_1['uid'] = transactions_control_1['uid'].astype(int)"
   ]
  },
  {
   "cell_type": "code",
   "execution_count": 40,
   "id": "b5655bee",
   "metadata": {},
   "outputs": [
    {
     "data": {
      "text/plain": [
       "uid                      int64\n",
       "country                 object\n",
       "joined_at       datetime64[ns]\n",
       "paid_at         datetime64[ns]\n",
       "revenue                  int64\n",
       "payment_id               int64\n",
       "from_page               object\n",
       "product_type            object\n",
       "dtype: object"
      ]
     },
     "execution_count": 40,
     "metadata": {},
     "output_type": "execute_result"
    }
   ],
   "source": [
    "transactions_control_2.dtypes"
   ]
  },
  {
   "cell_type": "code",
   "execution_count": 41,
   "id": "036a8fdf",
   "metadata": {},
   "outputs": [
    {
     "data": {
      "text/plain": [
       "uid                   int64\n",
       "age                   int64\n",
       "attraction_coeff      int64\n",
       "coins               float64\n",
       "country              object\n",
       "visit_days           object\n",
       "gender                int64\n",
       "age_filter_start      int64\n",
       "age_filter_end        int64\n",
       "views_count           int64\n",
       "was_premium         float64\n",
       "is_premium          float64\n",
       "total_revenue         int64\n",
       "dtype: object"
      ]
     },
     "execution_count": 41,
     "metadata": {},
     "output_type": "execute_result"
    }
   ],
   "source": [
    "users_control_1.dtypes"
   ]
  },
  {
   "cell_type": "code",
   "execution_count": 42,
   "id": "3679be41",
   "metadata": {},
   "outputs": [
    {
     "data": {
      "text/plain": [
       "uid                   int64\n",
       "age                   int64\n",
       "attraction_coeff      int64\n",
       "coins               float64\n",
       "country              object\n",
       "visit_days           object\n",
       "gender                int64\n",
       "age_filter_start      int64\n",
       "age_filter_end        int64\n",
       "views_count           int64\n",
       "was_premium         float64\n",
       "is_premium          float64\n",
       "total_revenue         int64\n",
       "dtype: object"
      ]
     },
     "execution_count": 42,
     "metadata": {},
     "output_type": "execute_result"
    }
   ],
   "source": [
    "users_control_2.dtypes"
   ]
  },
  {
   "cell_type": "code",
   "execution_count": 43,
   "id": "f4f9ff79",
   "metadata": {},
   "outputs": [
    {
     "data": {
      "text/plain": [
       "uid                   int64\n",
       "age                   int64\n",
       "attraction_coeff      int64\n",
       "coins               float64\n",
       "country              object\n",
       "visit_days           object\n",
       "gender                int64\n",
       "age_filter_start      int64\n",
       "age_filter_end        int64\n",
       "views_count           int64\n",
       "was_premium         float64\n",
       "is_premium          float64\n",
       "total_revenue         int64\n",
       "dtype: object"
      ]
     },
     "execution_count": 43,
     "metadata": {},
     "output_type": "execute_result"
    }
   ],
   "source": [
    "users_test.dtypes"
   ]
  },
  {
   "cell_type": "markdown",
   "id": "a9a20a2b",
   "metadata": {},
   "source": [
    "### Проверка соответствия пользователей и их транзакций "
   ]
  },
  {
   "cell_type": "markdown",
   "id": "66a64269",
   "metadata": {},
   "source": [
    "Проверим, что количество пользователей совпадает с данными о транзакциях, ими совершенных"
   ]
  },
  {
   "cell_type": "code",
   "execution_count": 44,
   "id": "7869ff0e",
   "metadata": {},
   "outputs": [
    {
     "data": {
      "text/html": [
       "<div>\n",
       "<style scoped>\n",
       "    .dataframe tbody tr th:only-of-type {\n",
       "        vertical-align: middle;\n",
       "    }\n",
       "\n",
       "    .dataframe tbody tr th {\n",
       "        vertical-align: top;\n",
       "    }\n",
       "\n",
       "    .dataframe thead th {\n",
       "        text-align: right;\n",
       "    }\n",
       "</style>\n",
       "<table border=\"1\" class=\"dataframe\">\n",
       "  <thead>\n",
       "    <tr style=\"text-align: right;\">\n",
       "      <th></th>\n",
       "      <th>uid</th>\n",
       "      <th>revenue</th>\n",
       "    </tr>\n",
       "  </thead>\n",
       "  <tbody>\n",
       "    <tr>\n",
       "      <th>0</th>\n",
       "      <td>891092322</td>\n",
       "      <td>9945.0</td>\n",
       "    </tr>\n",
       "    <tr>\n",
       "      <th>1</th>\n",
       "      <td>891120969</td>\n",
       "      <td>6292.0</td>\n",
       "    </tr>\n",
       "    <tr>\n",
       "      <th>2</th>\n",
       "      <td>891130164</td>\n",
       "      <td>11869.0</td>\n",
       "    </tr>\n",
       "    <tr>\n",
       "      <th>3</th>\n",
       "      <td>891131061</td>\n",
       "      <td>10075.0</td>\n",
       "    </tr>\n",
       "    <tr>\n",
       "      <th>4</th>\n",
       "      <td>891135642</td>\n",
       "      <td>962.0</td>\n",
       "    </tr>\n",
       "    <tr>\n",
       "      <th>...</th>\n",
       "      <td>...</td>\n",
       "      <td>...</td>\n",
       "    </tr>\n",
       "    <tr>\n",
       "      <th>187</th>\n",
       "      <td>892393119</td>\n",
       "      <td>3614.0</td>\n",
       "    </tr>\n",
       "    <tr>\n",
       "      <th>188</th>\n",
       "      <td>892405224</td>\n",
       "      <td>8424.0</td>\n",
       "    </tr>\n",
       "    <tr>\n",
       "      <th>189</th>\n",
       "      <td>892421277</td>\n",
       "      <td>60333.0</td>\n",
       "    </tr>\n",
       "    <tr>\n",
       "      <th>190</th>\n",
       "      <td>892421826</td>\n",
       "      <td>14586.0</td>\n",
       "    </tr>\n",
       "    <tr>\n",
       "      <th>191</th>\n",
       "      <td>892423284</td>\n",
       "      <td>12909.0</td>\n",
       "    </tr>\n",
       "  </tbody>\n",
       "</table>\n",
       "<p>192 rows × 2 columns</p>\n",
       "</div>"
      ],
      "text/plain": [
       "           uid  revenue\n",
       "0    891092322   9945.0\n",
       "1    891120969   6292.0\n",
       "2    891130164  11869.0\n",
       "3    891131061  10075.0\n",
       "4    891135642    962.0\n",
       "..         ...      ...\n",
       "187  892393119   3614.0\n",
       "188  892405224   8424.0\n",
       "189  892421277  60333.0\n",
       "190  892421826  14586.0\n",
       "191  892423284  12909.0\n",
       "\n",
       "[192 rows x 2 columns]"
      ]
     },
     "execution_count": 44,
     "metadata": {},
     "output_type": "execute_result"
    }
   ],
   "source": [
    "tcr1 = transactions_control_1.groupby(['uid'], as_index = False).revenue.sum()\n",
    "tcr1"
   ]
  },
  {
   "cell_type": "code",
   "execution_count": 45,
   "id": "681b6036",
   "metadata": {},
   "outputs": [
    {
     "data": {
      "text/html": [
       "<div>\n",
       "<style scoped>\n",
       "    .dataframe tbody tr th:only-of-type {\n",
       "        vertical-align: middle;\n",
       "    }\n",
       "\n",
       "    .dataframe tbody tr th {\n",
       "        vertical-align: top;\n",
       "    }\n",
       "\n",
       "    .dataframe thead th {\n",
       "        text-align: right;\n",
       "    }\n",
       "</style>\n",
       "<table border=\"1\" class=\"dataframe\">\n",
       "  <thead>\n",
       "    <tr style=\"text-align: right;\">\n",
       "      <th></th>\n",
       "      <th>uid</th>\n",
       "      <th>total_revenue</th>\n",
       "    </tr>\n",
       "  </thead>\n",
       "  <tbody>\n",
       "    <tr>\n",
       "      <th>0</th>\n",
       "      <td>891092322</td>\n",
       "      <td>9945</td>\n",
       "    </tr>\n",
       "    <tr>\n",
       "      <th>1</th>\n",
       "      <td>891120969</td>\n",
       "      <td>6292</td>\n",
       "    </tr>\n",
       "    <tr>\n",
       "      <th>2</th>\n",
       "      <td>891130164</td>\n",
       "      <td>11869</td>\n",
       "    </tr>\n",
       "    <tr>\n",
       "      <th>3</th>\n",
       "      <td>891131061</td>\n",
       "      <td>10075</td>\n",
       "    </tr>\n",
       "    <tr>\n",
       "      <th>4</th>\n",
       "      <td>891135642</td>\n",
       "      <td>962</td>\n",
       "    </tr>\n",
       "    <tr>\n",
       "      <th>...</th>\n",
       "      <td>...</td>\n",
       "      <td>...</td>\n",
       "    </tr>\n",
       "    <tr>\n",
       "      <th>187</th>\n",
       "      <td>892405224</td>\n",
       "      <td>8424</td>\n",
       "    </tr>\n",
       "    <tr>\n",
       "      <th>188</th>\n",
       "      <td>892421277</td>\n",
       "      <td>60333</td>\n",
       "    </tr>\n",
       "    <tr>\n",
       "      <th>189</th>\n",
       "      <td>892421826</td>\n",
       "      <td>14586</td>\n",
       "    </tr>\n",
       "    <tr>\n",
       "      <th>190</th>\n",
       "      <td>892423284</td>\n",
       "      <td>12909</td>\n",
       "    </tr>\n",
       "    <tr>\n",
       "      <th>191</th>\n",
       "      <td>960936960</td>\n",
       "      <td>26</td>\n",
       "    </tr>\n",
       "  </tbody>\n",
       "</table>\n",
       "<p>192 rows × 2 columns</p>\n",
       "</div>"
      ],
      "text/plain": [
       "           uid  total_revenue\n",
       "0    891092322           9945\n",
       "1    891120969           6292\n",
       "2    891130164          11869\n",
       "3    891131061          10075\n",
       "4    891135642            962\n",
       "..         ...            ...\n",
       "187  892405224           8424\n",
       "188  892421277          60333\n",
       "189  892421826          14586\n",
       "190  892423284          12909\n",
       "191  960936960             26\n",
       "\n",
       "[192 rows x 2 columns]"
      ]
     },
     "execution_count": 45,
     "metadata": {},
     "output_type": "execute_result"
    }
   ],
   "source": [
    "ucr1 = users_control_1.query('total_revenue > 0').groupby(['uid'], as_index = False).total_revenue.sum()\n",
    "ucr1"
   ]
  },
  {
   "cell_type": "markdown",
   "id": "26fa7c4f",
   "metadata": {},
   "source": [
    "Количество пользователей совпадает, сравним общую сумму выручки\n"
   ]
  },
  {
   "cell_type": "code",
   "execution_count": 46,
   "id": "85cefa37",
   "metadata": {},
   "outputs": [
    {
     "data": {
      "text/plain": [
       "2493998.0"
      ]
     },
     "execution_count": 46,
     "metadata": {},
     "output_type": "execute_result"
    }
   ],
   "source": [
    "tcr1.revenue.sum() "
   ]
  },
  {
   "cell_type": "code",
   "execution_count": 47,
   "id": "f505a0d9",
   "metadata": {},
   "outputs": [
    {
     "data": {
      "text/plain": [
       "2581267"
      ]
     },
     "execution_count": 47,
     "metadata": {},
     "output_type": "execute_result"
    }
   ],
   "source": [
    "ucr1.total_revenue.sum()"
   ]
  },
  {
   "cell_type": "markdown",
   "id": "772eae3d",
   "metadata": {},
   "source": [
    "Общая сумма выручки не совпадает, найдем этих пользователей, объединив датафреймы по uid"
   ]
  },
  {
   "cell_type": "code",
   "execution_count": 48,
   "id": "7d35861e",
   "metadata": {},
   "outputs": [
    {
     "data": {
      "text/html": [
       "<div>\n",
       "<style scoped>\n",
       "    .dataframe tbody tr th:only-of-type {\n",
       "        vertical-align: middle;\n",
       "    }\n",
       "\n",
       "    .dataframe tbody tr th {\n",
       "        vertical-align: top;\n",
       "    }\n",
       "\n",
       "    .dataframe thead th {\n",
       "        text-align: right;\n",
       "    }\n",
       "</style>\n",
       "<table border=\"1\" class=\"dataframe\">\n",
       "  <thead>\n",
       "    <tr style=\"text-align: right;\">\n",
       "      <th></th>\n",
       "      <th>uid</th>\n",
       "      <th>revenue</th>\n",
       "      <th>total_revenue</th>\n",
       "    </tr>\n",
       "  </thead>\n",
       "  <tbody>\n",
       "    <tr>\n",
       "      <th>0</th>\n",
       "      <td>891092322</td>\n",
       "      <td>9945.0</td>\n",
       "      <td>9945</td>\n",
       "    </tr>\n",
       "    <tr>\n",
       "      <th>1</th>\n",
       "      <td>891120969</td>\n",
       "      <td>6292.0</td>\n",
       "      <td>6292</td>\n",
       "    </tr>\n",
       "    <tr>\n",
       "      <th>2</th>\n",
       "      <td>891130164</td>\n",
       "      <td>11869.0</td>\n",
       "      <td>11869</td>\n",
       "    </tr>\n",
       "    <tr>\n",
       "      <th>3</th>\n",
       "      <td>891131061</td>\n",
       "      <td>10075.0</td>\n",
       "      <td>10075</td>\n",
       "    </tr>\n",
       "    <tr>\n",
       "      <th>4</th>\n",
       "      <td>891135642</td>\n",
       "      <td>962.0</td>\n",
       "      <td>962</td>\n",
       "    </tr>\n",
       "    <tr>\n",
       "      <th>...</th>\n",
       "      <td>...</td>\n",
       "      <td>...</td>\n",
       "      <td>...</td>\n",
       "    </tr>\n",
       "    <tr>\n",
       "      <th>186</th>\n",
       "      <td>892393119</td>\n",
       "      <td>3614.0</td>\n",
       "      <td>3614</td>\n",
       "    </tr>\n",
       "    <tr>\n",
       "      <th>187</th>\n",
       "      <td>892405224</td>\n",
       "      <td>8424.0</td>\n",
       "      <td>8424</td>\n",
       "    </tr>\n",
       "    <tr>\n",
       "      <th>188</th>\n",
       "      <td>892421277</td>\n",
       "      <td>60333.0</td>\n",
       "      <td>60333</td>\n",
       "    </tr>\n",
       "    <tr>\n",
       "      <th>189</th>\n",
       "      <td>892421826</td>\n",
       "      <td>14586.0</td>\n",
       "      <td>14586</td>\n",
       "    </tr>\n",
       "    <tr>\n",
       "      <th>190</th>\n",
       "      <td>892423284</td>\n",
       "      <td>12909.0</td>\n",
       "      <td>12909</td>\n",
       "    </tr>\n",
       "  </tbody>\n",
       "</table>\n",
       "<p>191 rows × 3 columns</p>\n",
       "</div>"
      ],
      "text/plain": [
       "           uid  revenue  total_revenue\n",
       "0    891092322   9945.0           9945\n",
       "1    891120969   6292.0           6292\n",
       "2    891130164  11869.0          11869\n",
       "3    891131061  10075.0          10075\n",
       "4    891135642    962.0            962\n",
       "..         ...      ...            ...\n",
       "186  892393119   3614.0           3614\n",
       "187  892405224   8424.0           8424\n",
       "188  892421277  60333.0          60333\n",
       "189  892421826  14586.0          14586\n",
       "190  892423284  12909.0          12909\n",
       "\n",
       "[191 rows x 3 columns]"
      ]
     },
     "execution_count": 48,
     "metadata": {},
     "output_type": "execute_result"
    }
   ],
   "source": [
    "crr1 = tcr1.merge(ucr1, on = 'uid', how = 'inner')\n",
    "crr1"
   ]
  },
  {
   "cell_type": "code",
   "execution_count": 49,
   "id": "d53d1b2c",
   "metadata": {},
   "outputs": [
    {
     "data": {
      "text/html": [
       "<div>\n",
       "<style scoped>\n",
       "    .dataframe tbody tr th:only-of-type {\n",
       "        vertical-align: middle;\n",
       "    }\n",
       "\n",
       "    .dataframe tbody tr th {\n",
       "        vertical-align: top;\n",
       "    }\n",
       "\n",
       "    .dataframe thead th {\n",
       "        text-align: right;\n",
       "    }\n",
       "</style>\n",
       "<table border=\"1\" class=\"dataframe\">\n",
       "  <thead>\n",
       "    <tr style=\"text-align: right;\">\n",
       "      <th></th>\n",
       "      <th>uid</th>\n",
       "      <th>revenue</th>\n",
       "      <th>total_revenue</th>\n",
       "    </tr>\n",
       "  </thead>\n",
       "  <tbody>\n",
       "    <tr>\n",
       "      <th>16</th>\n",
       "      <td>891252072</td>\n",
       "      <td>7553.0</td>\n",
       "      <td>8814</td>\n",
       "    </tr>\n",
       "    <tr>\n",
       "      <th>35</th>\n",
       "      <td>891320916</td>\n",
       "      <td>10075.0</td>\n",
       "      <td>13858</td>\n",
       "    </tr>\n",
       "    <tr>\n",
       "      <th>44</th>\n",
       "      <td>891365490</td>\n",
       "      <td>8814.0</td>\n",
       "      <td>10075</td>\n",
       "    </tr>\n",
       "    <tr>\n",
       "      <th>46</th>\n",
       "      <td>891367521</td>\n",
       "      <td>16081.0</td>\n",
       "      <td>20462</td>\n",
       "    </tr>\n",
       "    <tr>\n",
       "      <th>54</th>\n",
       "      <td>891452706</td>\n",
       "      <td>12597.0</td>\n",
       "      <td>18902</td>\n",
       "    </tr>\n",
       "    <tr>\n",
       "      <th>95</th>\n",
       "      <td>891721851</td>\n",
       "      <td>17277.0</td>\n",
       "      <td>18174</td>\n",
       "    </tr>\n",
       "    <tr>\n",
       "      <th>97</th>\n",
       "      <td>891739737</td>\n",
       "      <td>20163.0</td>\n",
       "      <td>21424</td>\n",
       "    </tr>\n",
       "    <tr>\n",
       "      <th>140</th>\n",
       "      <td>892102893</td>\n",
       "      <td>12610.0</td>\n",
       "      <td>25220</td>\n",
       "    </tr>\n",
       "    <tr>\n",
       "      <th>161</th>\n",
       "      <td>892207959</td>\n",
       "      <td>16380.0</td>\n",
       "      <td>18902</td>\n",
       "    </tr>\n",
       "    <tr>\n",
       "      <th>178</th>\n",
       "      <td>892333905</td>\n",
       "      <td>403104.0</td>\n",
       "      <td>486330</td>\n",
       "    </tr>\n",
       "  </tbody>\n",
       "</table>\n",
       "</div>"
      ],
      "text/plain": [
       "           uid   revenue  total_revenue\n",
       "16   891252072    7553.0           8814\n",
       "35   891320916   10075.0          13858\n",
       "44   891365490    8814.0          10075\n",
       "46   891367521   16081.0          20462\n",
       "54   891452706   12597.0          18902\n",
       "95   891721851   17277.0          18174\n",
       "97   891739737   20163.0          21424\n",
       "140  892102893   12610.0          25220\n",
       "161  892207959   16380.0          18902\n",
       "178  892333905  403104.0         486330"
      ]
     },
     "execution_count": 49,
     "metadata": {},
     "output_type": "execute_result"
    }
   ],
   "source": [
    "crr1.query('revenue != total_revenue')"
   ]
  },
  {
   "cell_type": "code",
   "execution_count": 50,
   "id": "f18f0257",
   "metadata": {},
   "outputs": [
    {
     "data": {
      "text/html": [
       "<div>\n",
       "<style scoped>\n",
       "    .dataframe tbody tr th:only-of-type {\n",
       "        vertical-align: middle;\n",
       "    }\n",
       "\n",
       "    .dataframe tbody tr th {\n",
       "        vertical-align: top;\n",
       "    }\n",
       "\n",
       "    .dataframe thead th {\n",
       "        text-align: right;\n",
       "    }\n",
       "</style>\n",
       "<table border=\"1\" class=\"dataframe\">\n",
       "  <thead>\n",
       "    <tr style=\"text-align: right;\">\n",
       "      <th></th>\n",
       "      <th>uid</th>\n",
       "      <th>revenue</th>\n",
       "    </tr>\n",
       "  </thead>\n",
       "  <tbody>\n",
       "    <tr>\n",
       "      <th>0</th>\n",
       "      <td>891068079</td>\n",
       "      <td>10296</td>\n",
       "    </tr>\n",
       "    <tr>\n",
       "      <th>1</th>\n",
       "      <td>891075072</td>\n",
       "      <td>2327</td>\n",
       "    </tr>\n",
       "    <tr>\n",
       "      <th>2</th>\n",
       "      <td>891077727</td>\n",
       "      <td>6292</td>\n",
       "    </tr>\n",
       "    <tr>\n",
       "      <th>3</th>\n",
       "      <td>891080040</td>\n",
       "      <td>15132</td>\n",
       "    </tr>\n",
       "    <tr>\n",
       "      <th>4</th>\n",
       "      <td>891112263</td>\n",
       "      <td>17290</td>\n",
       "    </tr>\n",
       "    <tr>\n",
       "      <th>...</th>\n",
       "      <td>...</td>\n",
       "      <td>...</td>\n",
       "    </tr>\n",
       "    <tr>\n",
       "      <th>182</th>\n",
       "      <td>892384110</td>\n",
       "      <td>9087</td>\n",
       "    </tr>\n",
       "    <tr>\n",
       "      <th>183</th>\n",
       "      <td>892385232</td>\n",
       "      <td>6292</td>\n",
       "    </tr>\n",
       "    <tr>\n",
       "      <th>184</th>\n",
       "      <td>892395564</td>\n",
       "      <td>2730</td>\n",
       "    </tr>\n",
       "    <tr>\n",
       "      <th>185</th>\n",
       "      <td>892435536</td>\n",
       "      <td>13598</td>\n",
       "    </tr>\n",
       "    <tr>\n",
       "      <th>186</th>\n",
       "      <td>892438776</td>\n",
       "      <td>12727</td>\n",
       "    </tr>\n",
       "  </tbody>\n",
       "</table>\n",
       "<p>187 rows × 2 columns</p>\n",
       "</div>"
      ],
      "text/plain": [
       "           uid  revenue\n",
       "0    891068079    10296\n",
       "1    891075072     2327\n",
       "2    891077727     6292\n",
       "3    891080040    15132\n",
       "4    891112263    17290\n",
       "..         ...      ...\n",
       "182  892384110     9087\n",
       "183  892385232     6292\n",
       "184  892395564     2730\n",
       "185  892435536    13598\n",
       "186  892438776    12727\n",
       "\n",
       "[187 rows x 2 columns]"
      ]
     },
     "execution_count": 50,
     "metadata": {},
     "output_type": "execute_result"
    }
   ],
   "source": [
    "tcr2 = transactions_control_2.groupby(['uid'], as_index = False).revenue.sum()\n",
    "tcr2"
   ]
  },
  {
   "cell_type": "code",
   "execution_count": 51,
   "id": "1207a1cc",
   "metadata": {},
   "outputs": [
    {
     "data": {
      "text/html": [
       "<div>\n",
       "<style scoped>\n",
       "    .dataframe tbody tr th:only-of-type {\n",
       "        vertical-align: middle;\n",
       "    }\n",
       "\n",
       "    .dataframe tbody tr th {\n",
       "        vertical-align: top;\n",
       "    }\n",
       "\n",
       "    .dataframe thead th {\n",
       "        text-align: right;\n",
       "    }\n",
       "</style>\n",
       "<table border=\"1\" class=\"dataframe\">\n",
       "  <thead>\n",
       "    <tr style=\"text-align: right;\">\n",
       "      <th></th>\n",
       "      <th>uid</th>\n",
       "      <th>total_revenue</th>\n",
       "    </tr>\n",
       "  </thead>\n",
       "  <tbody>\n",
       "    <tr>\n",
       "      <th>0</th>\n",
       "      <td>891068079</td>\n",
       "      <td>10296</td>\n",
       "    </tr>\n",
       "    <tr>\n",
       "      <th>1</th>\n",
       "      <td>891075072</td>\n",
       "      <td>2327</td>\n",
       "    </tr>\n",
       "    <tr>\n",
       "      <th>2</th>\n",
       "      <td>891077727</td>\n",
       "      <td>6292</td>\n",
       "    </tr>\n",
       "    <tr>\n",
       "      <th>3</th>\n",
       "      <td>891080040</td>\n",
       "      <td>15132</td>\n",
       "    </tr>\n",
       "    <tr>\n",
       "      <th>4</th>\n",
       "      <td>891112263</td>\n",
       "      <td>17290</td>\n",
       "    </tr>\n",
       "    <tr>\n",
       "      <th>...</th>\n",
       "      <td>...</td>\n",
       "      <td>...</td>\n",
       "    </tr>\n",
       "    <tr>\n",
       "      <th>182</th>\n",
       "      <td>892384110</td>\n",
       "      <td>9087</td>\n",
       "    </tr>\n",
       "    <tr>\n",
       "      <th>183</th>\n",
       "      <td>892385232</td>\n",
       "      <td>6292</td>\n",
       "    </tr>\n",
       "    <tr>\n",
       "      <th>184</th>\n",
       "      <td>892395564</td>\n",
       "      <td>2730</td>\n",
       "    </tr>\n",
       "    <tr>\n",
       "      <th>185</th>\n",
       "      <td>892435536</td>\n",
       "      <td>13598</td>\n",
       "    </tr>\n",
       "    <tr>\n",
       "      <th>186</th>\n",
       "      <td>892438776</td>\n",
       "      <td>12727</td>\n",
       "    </tr>\n",
       "  </tbody>\n",
       "</table>\n",
       "<p>187 rows × 2 columns</p>\n",
       "</div>"
      ],
      "text/plain": [
       "           uid  total_revenue\n",
       "0    891068079          10296\n",
       "1    891075072           2327\n",
       "2    891077727           6292\n",
       "3    891080040          15132\n",
       "4    891112263          17290\n",
       "..         ...            ...\n",
       "182  892384110           9087\n",
       "183  892385232           6292\n",
       "184  892395564           2730\n",
       "185  892435536          13598\n",
       "186  892438776          12727\n",
       "\n",
       "[187 rows x 2 columns]"
      ]
     },
     "execution_count": 51,
     "metadata": {},
     "output_type": "execute_result"
    }
   ],
   "source": [
    "ucr2 = users_control_2.query('total_revenue > 0').groupby(['uid'], as_index = False).total_revenue.sum()\n",
    "ucr2"
   ]
  },
  {
   "cell_type": "code",
   "execution_count": 52,
   "id": "7c5bc353",
   "metadata": {},
   "outputs": [
    {
     "data": {
      "text/plain": [
       "1907997"
      ]
     },
     "execution_count": 52,
     "metadata": {},
     "output_type": "execute_result"
    }
   ],
   "source": [
    "tcr2.revenue.sum() "
   ]
  },
  {
   "cell_type": "code",
   "execution_count": 53,
   "id": "da62846b",
   "metadata": {},
   "outputs": [
    {
     "data": {
      "text/plain": [
       "1920438"
      ]
     },
     "execution_count": 53,
     "metadata": {},
     "output_type": "execute_result"
    }
   ],
   "source": [
    "ucr2.total_revenue.sum()"
   ]
  },
  {
   "cell_type": "code",
   "execution_count": 54,
   "id": "9c7bf071",
   "metadata": {},
   "outputs": [
    {
     "data": {
      "text/html": [
       "<div>\n",
       "<style scoped>\n",
       "    .dataframe tbody tr th:only-of-type {\n",
       "        vertical-align: middle;\n",
       "    }\n",
       "\n",
       "    .dataframe tbody tr th {\n",
       "        vertical-align: top;\n",
       "    }\n",
       "\n",
       "    .dataframe thead th {\n",
       "        text-align: right;\n",
       "    }\n",
       "</style>\n",
       "<table border=\"1\" class=\"dataframe\">\n",
       "  <thead>\n",
       "    <tr style=\"text-align: right;\">\n",
       "      <th></th>\n",
       "      <th>uid</th>\n",
       "      <th>revenue</th>\n",
       "      <th>total_revenue</th>\n",
       "    </tr>\n",
       "  </thead>\n",
       "  <tbody>\n",
       "    <tr>\n",
       "      <th>0</th>\n",
       "      <td>891068079</td>\n",
       "      <td>10296</td>\n",
       "      <td>10296</td>\n",
       "    </tr>\n",
       "    <tr>\n",
       "      <th>1</th>\n",
       "      <td>891075072</td>\n",
       "      <td>2327</td>\n",
       "      <td>2327</td>\n",
       "    </tr>\n",
       "    <tr>\n",
       "      <th>2</th>\n",
       "      <td>891077727</td>\n",
       "      <td>6292</td>\n",
       "      <td>6292</td>\n",
       "    </tr>\n",
       "    <tr>\n",
       "      <th>3</th>\n",
       "      <td>891080040</td>\n",
       "      <td>15132</td>\n",
       "      <td>15132</td>\n",
       "    </tr>\n",
       "    <tr>\n",
       "      <th>4</th>\n",
       "      <td>891112263</td>\n",
       "      <td>17290</td>\n",
       "      <td>17290</td>\n",
       "    </tr>\n",
       "    <tr>\n",
       "      <th>...</th>\n",
       "      <td>...</td>\n",
       "      <td>...</td>\n",
       "      <td>...</td>\n",
       "    </tr>\n",
       "    <tr>\n",
       "      <th>182</th>\n",
       "      <td>892384110</td>\n",
       "      <td>9087</td>\n",
       "      <td>9087</td>\n",
       "    </tr>\n",
       "    <tr>\n",
       "      <th>183</th>\n",
       "      <td>892385232</td>\n",
       "      <td>6292</td>\n",
       "      <td>6292</td>\n",
       "    </tr>\n",
       "    <tr>\n",
       "      <th>184</th>\n",
       "      <td>892395564</td>\n",
       "      <td>2730</td>\n",
       "      <td>2730</td>\n",
       "    </tr>\n",
       "    <tr>\n",
       "      <th>185</th>\n",
       "      <td>892435536</td>\n",
       "      <td>13598</td>\n",
       "      <td>13598</td>\n",
       "    </tr>\n",
       "    <tr>\n",
       "      <th>186</th>\n",
       "      <td>892438776</td>\n",
       "      <td>12727</td>\n",
       "      <td>12727</td>\n",
       "    </tr>\n",
       "  </tbody>\n",
       "</table>\n",
       "<p>187 rows × 3 columns</p>\n",
       "</div>"
      ],
      "text/plain": [
       "           uid  revenue  total_revenue\n",
       "0    891068079    10296          10296\n",
       "1    891075072     2327           2327\n",
       "2    891077727     6292           6292\n",
       "3    891080040    15132          15132\n",
       "4    891112263    17290          17290\n",
       "..         ...      ...            ...\n",
       "182  892384110     9087           9087\n",
       "183  892385232     6292           6292\n",
       "184  892395564     2730           2730\n",
       "185  892435536    13598          13598\n",
       "186  892438776    12727          12727\n",
       "\n",
       "[187 rows x 3 columns]"
      ]
     },
     "execution_count": 54,
     "metadata": {},
     "output_type": "execute_result"
    }
   ],
   "source": [
    "crr2 = tcr2.merge(ucr2, on = 'uid', how = 'outer')\n",
    "crr2"
   ]
  },
  {
   "cell_type": "code",
   "execution_count": 55,
   "id": "c49a291e",
   "metadata": {},
   "outputs": [
    {
     "data": {
      "text/html": [
       "<div>\n",
       "<style scoped>\n",
       "    .dataframe tbody tr th:only-of-type {\n",
       "        vertical-align: middle;\n",
       "    }\n",
       "\n",
       "    .dataframe tbody tr th {\n",
       "        vertical-align: top;\n",
       "    }\n",
       "\n",
       "    .dataframe thead th {\n",
       "        text-align: right;\n",
       "    }\n",
       "</style>\n",
       "<table border=\"1\" class=\"dataframe\">\n",
       "  <thead>\n",
       "    <tr style=\"text-align: right;\">\n",
       "      <th></th>\n",
       "      <th>uid</th>\n",
       "      <th>revenue</th>\n",
       "      <th>total_revenue</th>\n",
       "    </tr>\n",
       "  </thead>\n",
       "  <tbody>\n",
       "    <tr>\n",
       "      <th>97</th>\n",
       "      <td>891862596</td>\n",
       "      <td>8814</td>\n",
       "      <td>10075</td>\n",
       "    </tr>\n",
       "    <tr>\n",
       "      <th>122</th>\n",
       "      <td>892009254</td>\n",
       "      <td>4719</td>\n",
       "      <td>7072</td>\n",
       "    </tr>\n",
       "    <tr>\n",
       "      <th>128</th>\n",
       "      <td>892045743</td>\n",
       "      <td>8814</td>\n",
       "      <td>10075</td>\n",
       "    </tr>\n",
       "    <tr>\n",
       "      <th>132</th>\n",
       "      <td>892062660</td>\n",
       "      <td>1261</td>\n",
       "      <td>2522</td>\n",
       "    </tr>\n",
       "    <tr>\n",
       "      <th>133</th>\n",
       "      <td>892064328</td>\n",
       "      <td>12597</td>\n",
       "      <td>18902</td>\n",
       "    </tr>\n",
       "  </tbody>\n",
       "</table>\n",
       "</div>"
      ],
      "text/plain": [
       "           uid  revenue  total_revenue\n",
       "97   891862596     8814          10075\n",
       "122  892009254     4719           7072\n",
       "128  892045743     8814          10075\n",
       "132  892062660     1261           2522\n",
       "133  892064328    12597          18902"
      ]
     },
     "execution_count": 55,
     "metadata": {},
     "output_type": "execute_result"
    }
   ],
   "source": [
    "crr2.query('revenue != total_revenue')"
   ]
  },
  {
   "cell_type": "markdown",
   "id": "016ffbe4",
   "metadata": {},
   "source": [
    "Экстремальных расхождений по выручке нет, так что будем работать с тем, что есть. Но на это определенно стоит обратить внимание руководства и лиц, непосредственно вовлеченных в сбор данных, возможно в системе сбора и хранения данных о транзакциях и пользователях присутствует ошибка."
   ]
  },
  {
   "cell_type": "markdown",
   "id": "4e02c909",
   "metadata": {},
   "source": [
    "### Проверка раcпределений признаков по группам"
   ]
  },
  {
   "cell_type": "markdown",
   "id": "8e177700",
   "metadata": {},
   "source": [
    "Проверим, насколько разделение \"честное\", то есть группы статистически не отличаются по распределению признаков, отличных от того, на который направлен эксперимент (выручка). Нужно убедиться, что нет такой ситуации, что в одну группу попадают только мужчины, в другую женщины, или в одной группе представлена одна возрастная группа, а во второй другая (в таком случае эффект, полученный в ходе теста, может быть обусловлен не самим нововведением, а другим признаком). Будем проверять статистически с помощью t-теста (так как группы достаточно большие) и подсчета p-value."
   ]
  },
  {
   "cell_type": "markdown",
   "id": "05da9fb7",
   "metadata": {},
   "source": [
    "Для начала оценим распределения визуально, затем для спорных случаев применим статистический тест."
   ]
  },
  {
   "cell_type": "code",
   "execution_count": 56,
   "id": "e86715cc",
   "metadata": {},
   "outputs": [],
   "source": [
    "cols_to_check = [ 'age', 'attraction_coeff',  'coins', 'gender']"
   ]
  },
  {
   "cell_type": "code",
   "execution_count": 57,
   "id": "bd38a627",
   "metadata": {},
   "outputs": [
    {
     "data": {
      "image/png": "[encoded data removed]",
      "text/plain": [
       "<Figure size 800x700 with 3 Axes>"
      ]
     },
     "metadata": {},
     "output_type": "display_data"
    },
    {
     "data": {
      "image/png": "[encoded data removed]",
      "text/plain": [
       "<Figure size 800x700 with 3 Axes>"
      ]
     },
     "metadata": {},
     "output_type": "display_data"
    },
    {
     "data": {
      "image/png": "[encoded data removed]",
      "text/plain": [
       "<Figure size 800x700 with 3 Axes>"
      ]
     },
     "metadata": {},
     "output_type": "display_data"
    },
    {
     "data": {
      "image/png": "[encoded data removed]",
      "text/plain": [
       "<Figure size 800x700 with 3 Axes>"
      ]
     },
     "metadata": {},
     "output_type": "display_data"
    }
   ],
   "source": [
    "dfs = [users_control_1, users_control_2, users_test]\n",
    "labels = ['users_control_1', 'users_control_2', 'users_test']\n",
    "\n",
    "# Перебираем каждый признак и строим гистограмму для каждого датафрейма\n",
    "for col in cols_to_check:\n",
    "    plt.figure(figsize=(8, 7))\n",
    "    for i in range(3):\n",
    "        plt.subplot(3, 1, i+1)\n",
    "        sns.histplot(dfs[i][col], kde=True, label=labels[i])\n",
    "        plt.title(f'Distribution of {col} - {labels[i]}')\n",
    "        plt.legend()\n",
    "    plt.tight_layout()\n",
    "    plt.show()"
   ]
  },
  {
   "cell_type": "markdown",
   "id": "5a85803f",
   "metadata": {},
   "source": [
    "Вывод: можно видеть, что признаки распределены равномерно между группами."
   ]
  },
  {
   "cell_type": "markdown",
   "id": "55f1712b",
   "metadata": {},
   "source": [
    "### Проверка на выбросы"
   ]
  },
  {
   "cell_type": "code",
   "execution_count": 58,
   "id": "a3325b62",
   "metadata": {},
   "outputs": [
    {
     "data": {
      "image/png": "[encoded data removed]",
      "text/plain": [
       "<Figure size 640x480 with 1 Axes>"
      ]
     },
     "metadata": {},
     "output_type": "display_data"
    }
   ],
   "source": [
    "sns.histplot(transactions_test.revenue, kde=True);"
   ]
  },
  {
   "cell_type": "markdown",
   "id": "be58ae99",
   "metadata": {},
   "source": [
    "Можно заметить отдельно стоящее значение выше 100000, которое можно отнести либо к выбросам, либо супер-премиум пользователям. Из текущих данных это трудно понять, поэтому попробуем выполнить тест как с присутствием данных юзеров в выборке, так и без них. Если будут получены значимые отличия с ними, а без них нет - то можно сделать вывод, что метрика выросла только за счет двух таких активных пользователей и стоит с осторожностью относиться к результатам такого теста, и возможно провести дополнительные проверки. Если же и в обоих раскладах получим результат, то удалять их не будем."
   ]
  },
  {
   "cell_type": "code",
   "execution_count": 59,
   "id": "ddde5288",
   "metadata": {},
   "outputs": [
    {
     "data": {
      "text/html": [
       "<div>\n",
       "<style scoped>\n",
       "    .dataframe tbody tr th:only-of-type {\n",
       "        vertical-align: middle;\n",
       "    }\n",
       "\n",
       "    .dataframe tbody tr th {\n",
       "        vertical-align: top;\n",
       "    }\n",
       "\n",
       "    .dataframe thead th {\n",
       "        text-align: right;\n",
       "    }\n",
       "</style>\n",
       "<table border=\"1\" class=\"dataframe\">\n",
       "  <thead>\n",
       "    <tr style=\"text-align: right;\">\n",
       "      <th></th>\n",
       "      <th>uid</th>\n",
       "      <th>country</th>\n",
       "      <th>joined_at</th>\n",
       "      <th>paid_at</th>\n",
       "      <th>revenue</th>\n",
       "      <th>payment_id</th>\n",
       "      <th>from_page</th>\n",
       "      <th>product_type</th>\n",
       "    </tr>\n",
       "  </thead>\n",
       "  <tbody>\n",
       "    <tr>\n",
       "      <th>12</th>\n",
       "      <td>891178380</td>\n",
       "      <td>Spain</td>\n",
       "      <td>2017-08-11 03:54:00</td>\n",
       "      <td>2017-09-11 21:53:00</td>\n",
       "      <td>113477</td>\n",
       "      <td>147</td>\n",
       "      <td>promo_09</td>\n",
       "      <td>premium_no_trial</td>\n",
       "    </tr>\n",
       "    <tr>\n",
       "      <th>196</th>\n",
       "      <td>892038759</td>\n",
       "      <td>United Arab Emirates</td>\n",
       "      <td>2017-10-22 11:12:00</td>\n",
       "      <td>2017-10-22 16:23:00</td>\n",
       "      <td>113477</td>\n",
       "      <td>147</td>\n",
       "      <td>autoreply_message</td>\n",
       "      <td>premium_no_trial</td>\n",
       "    </tr>\n",
       "  </tbody>\n",
       "</table>\n",
       "</div>"
      ],
      "text/plain": [
       "           uid               country           joined_at             paid_at  \\\n",
       "12   891178380                 Spain 2017-08-11 03:54:00 2017-09-11 21:53:00   \n",
       "196  892038759  United Arab Emirates 2017-10-22 11:12:00 2017-10-22 16:23:00   \n",
       "\n",
       "     revenue  payment_id          from_page      product_type  \n",
       "12    113477         147           promo_09  premium_no_trial  \n",
       "196   113477         147  autoreply_message  premium_no_trial  "
      ]
     },
     "execution_count": 59,
     "metadata": {},
     "output_type": "execute_result"
    }
   ],
   "source": [
    "transactions_test[transactions_test.revenue > 100000]"
   ]
  },
  {
   "cell_type": "code",
   "execution_count": 60,
   "id": "fbe87269",
   "metadata": {},
   "outputs": [
    {
     "data": {
      "image/png": "[encoded data removed]",
      "text/plain": [
       "<Figure size 640x480 with 1 Axes>"
      ]
     },
     "metadata": {},
     "output_type": "display_data"
    }
   ],
   "source": [
    "sns.histplot(users_test.total_revenue, kde=True);"
   ]
  },
  {
   "cell_type": "code",
   "execution_count": 61,
   "id": "553e2a35",
   "metadata": {},
   "outputs": [
    {
     "data": {
      "text/html": [
       "<div>\n",
       "<style scoped>\n",
       "    .dataframe tbody tr th:only-of-type {\n",
       "        vertical-align: middle;\n",
       "    }\n",
       "\n",
       "    .dataframe tbody tr th {\n",
       "        vertical-align: top;\n",
       "    }\n",
       "\n",
       "    .dataframe thead th {\n",
       "        text-align: right;\n",
       "    }\n",
       "</style>\n",
       "<table border=\"1\" class=\"dataframe\">\n",
       "  <thead>\n",
       "    <tr style=\"text-align: right;\">\n",
       "      <th></th>\n",
       "      <th>uid</th>\n",
       "      <th>age</th>\n",
       "      <th>attraction_coeff</th>\n",
       "      <th>coins</th>\n",
       "      <th>country</th>\n",
       "      <th>visit_days</th>\n",
       "      <th>gender</th>\n",
       "      <th>age_filter_start</th>\n",
       "      <th>age_filter_end</th>\n",
       "      <th>views_count</th>\n",
       "      <th>was_premium</th>\n",
       "      <th>is_premium</th>\n",
       "      <th>total_revenue</th>\n",
       "    </tr>\n",
       "  </thead>\n",
       "  <tbody>\n",
       "    <tr>\n",
       "      <th>992</th>\n",
       "      <td>892038759</td>\n",
       "      <td>26</td>\n",
       "      <td>323</td>\n",
       "      <td>3.0</td>\n",
       "      <td>United Arab Emirates</td>\n",
       "      <td>1,2,3,4,5,6,7,8,9,10,11,12,13,14,15,16,17,18,1...</td>\n",
       "      <td>1</td>\n",
       "      <td>23</td>\n",
       "      <td>48</td>\n",
       "      <td>232</td>\n",
       "      <td>1.0</td>\n",
       "      <td>1.0</td>\n",
       "      <td>123565</td>\n",
       "    </tr>\n",
       "    <tr>\n",
       "      <th>3629</th>\n",
       "      <td>891178380</td>\n",
       "      <td>42</td>\n",
       "      <td>275</td>\n",
       "      <td>85.0</td>\n",
       "      <td>Spain</td>\n",
       "      <td>1,2,4,5,6,7</td>\n",
       "      <td>1</td>\n",
       "      <td>26</td>\n",
       "      <td>36</td>\n",
       "      <td>287</td>\n",
       "      <td>1.0</td>\n",
       "      <td>1.0</td>\n",
       "      <td>129870</td>\n",
       "    </tr>\n",
       "  </tbody>\n",
       "</table>\n",
       "</div>"
      ],
      "text/plain": [
       "            uid  age  attraction_coeff  coins               country  \\\n",
       "992   892038759   26               323    3.0  United Arab Emirates   \n",
       "3629  891178380   42               275   85.0                 Spain   \n",
       "\n",
       "                                             visit_days  gender  \\\n",
       "992   1,2,3,4,5,6,7,8,9,10,11,12,13,14,15,16,17,18,1...       1   \n",
       "3629                                        1,2,4,5,6,7       1   \n",
       "\n",
       "      age_filter_start  age_filter_end  views_count  was_premium  is_premium  \\\n",
       "992                 23              48          232          1.0         1.0   \n",
       "3629                26              36          287          1.0         1.0   \n",
       "\n",
       "      total_revenue  \n",
       "992          123565  \n",
       "3629         129870  "
      ]
     },
     "execution_count": 61,
     "metadata": {},
     "output_type": "execute_result"
    }
   ],
   "source": [
    "users_test[users_test.total_revenue > 100000]"
   ]
  },
  {
   "cell_type": "code",
   "execution_count": 62,
   "id": "ee95c7f7",
   "metadata": {},
   "outputs": [],
   "source": [
    "users_test_ = users_test[~users_test.uid.isin([892038759,891178380])]\n",
    "transactions_test_ = transactions_test[~transactions_test.uid.isin([892038759,891178380])]"
   ]
  },
  {
   "cell_type": "markdown",
   "id": "1fd88171",
   "metadata": {},
   "source": [
    "Аналогично проверим распределение выручки на пользователя в контроле "
   ]
  },
  {
   "cell_type": "code",
   "execution_count": 63,
   "id": "95112fdf",
   "metadata": {},
   "outputs": [
    {
     "data": {
      "image/png": "[encoded data removed]",
      "text/plain": [
       "<Figure size 640x480 with 1 Axes>"
      ]
     },
     "metadata": {},
     "output_type": "display_data"
    }
   ],
   "source": [
    "sns.histplot(users_control_1.total_revenue, kde=True);"
   ]
  },
  {
   "cell_type": "code",
   "execution_count": 64,
   "id": "c396ab40",
   "metadata": {},
   "outputs": [
    {
     "data": {
      "text/html": [
       "<div>\n",
       "<style scoped>\n",
       "    .dataframe tbody tr th:only-of-type {\n",
       "        vertical-align: middle;\n",
       "    }\n",
       "\n",
       "    .dataframe tbody tr th {\n",
       "        vertical-align: top;\n",
       "    }\n",
       "\n",
       "    .dataframe thead th {\n",
       "        text-align: right;\n",
       "    }\n",
       "</style>\n",
       "<table border=\"1\" class=\"dataframe\">\n",
       "  <thead>\n",
       "    <tr style=\"text-align: right;\">\n",
       "      <th></th>\n",
       "      <th>uid</th>\n",
       "      <th>age</th>\n",
       "      <th>attraction_coeff</th>\n",
       "      <th>coins</th>\n",
       "      <th>country</th>\n",
       "      <th>visit_days</th>\n",
       "      <th>gender</th>\n",
       "      <th>age_filter_start</th>\n",
       "      <th>age_filter_end</th>\n",
       "      <th>views_count</th>\n",
       "      <th>was_premium</th>\n",
       "      <th>is_premium</th>\n",
       "      <th>total_revenue</th>\n",
       "    </tr>\n",
       "  </thead>\n",
       "  <tbody>\n",
       "    <tr>\n",
       "      <th>1427</th>\n",
       "      <td>892333905</td>\n",
       "      <td>22</td>\n",
       "      <td>175</td>\n",
       "      <td>3608.0</td>\n",
       "      <td>Italy</td>\n",
       "      <td>1,2,3,4,5,6,7,15</td>\n",
       "      <td>1</td>\n",
       "      <td>19</td>\n",
       "      <td>25</td>\n",
       "      <td>575</td>\n",
       "      <td>1.0</td>\n",
       "      <td>1.0</td>\n",
       "      <td>486330</td>\n",
       "    </tr>\n",
       "  </tbody>\n",
       "</table>\n",
       "</div>"
      ],
      "text/plain": [
       "            uid  age  attraction_coeff   coins country        visit_days  \\\n",
       "1427  892333905   22               175  3608.0   Italy  1,2,3,4,5,6,7,15   \n",
       "\n",
       "      gender  age_filter_start  age_filter_end  views_count  was_premium  \\\n",
       "1427       1                19              25          575          1.0   \n",
       "\n",
       "      is_premium  total_revenue  \n",
       "1427         1.0         486330  "
      ]
     },
     "execution_count": 64,
     "metadata": {},
     "output_type": "execute_result"
    }
   ],
   "source": [
    "users_control_1.query('total_revenue > 100000')"
   ]
  },
  {
   "cell_type": "code",
   "execution_count": 65,
   "id": "9bf19af0",
   "metadata": {},
   "outputs": [],
   "source": [
    "users_control_1_ = users_control_1[users_control_1.uid != 892333905]"
   ]
  },
  {
   "cell_type": "markdown",
   "id": "09c0f662",
   "metadata": {},
   "source": [
    "**Промежуточный вывод:** как показало дальнейшее проведение теста (A/A, A/B) как 'с', так и без удаления данных пользователей был также получен статистически значимый результат, поэтому их решено было оставить."
   ]
  },
  {
   "cell_type": "markdown",
   "id": "294f1b9b",
   "metadata": {},
   "source": [
    "## 3. Проверка системы сплитования (A/A тест)"
   ]
  },
  {
   "cell_type": "markdown",
   "id": "579f7e09",
   "metadata": {},
   "source": [
    "Проведем симуляцию A/A теста для целевой метрики и визуализируем распределение p-value для пользователей в контрольных группах"
   ]
  },
  {
   "cell_type": "code",
   "execution_count": 66,
   "id": "633b18a8",
   "metadata": {},
   "outputs": [
    {
     "name": "stderr",
     "output_type": "stream",
     "text": [
      "100%|███████████████████████████████████████████████████████████████████████████| 10000/10000 [00:26<00:00, 378.84it/s]\n"
     ]
    },
    {
     "data": {
      "image/png": "[encoded data removed]",
      "text/plain": [
       "<Figure size 640x480 with 1 Axes>"
      ]
     },
     "metadata": {},
     "output_type": "display_data"
    }
   ],
   "source": [
    "num_simulations = 10000\n",
    "sample_size = 1000\n",
    "p_vals = []\n",
    "\n",
    "# Запуск симуляций A/A теста для выручки\n",
    "for i in tqdm(range(num_simulations)):\n",
    "    s_1 = users_control_1.total_revenue.sample(sample_size).values\n",
    "    s_2 = users_control_2.total_revenue.sample(sample_size).values\n",
    "    p_vals.append(stats.ttest_ind(s_1, s_2, equal_var = False)[1]) \n",
    "\n",
    "plt.hist(p_vals, bins = 50, color = 'green', alpha = 0.3)\n",
    "plt.xlabel('pvalues')\n",
    "plt.title(\"A/A симуляция по пользователям\")\n",
    "plt.show()"
   ]
  },
  {
   "cell_type": "markdown",
   "id": "537547fb-9b83-4100-ab06-caa62bb50ed5",
   "metadata": {},
   "source": [
    "Небольшое возвышение на графике связано с решением не удалять супер-премиум пользователей, полученных на предыдущем этапе. Без них данный график выглядит более равномерным. Тем не менее сам тест сходится и с наличием данных пользователей в выборке."
   ]
  },
  {
   "cell_type": "code",
   "execution_count": 67,
   "id": "eda60419",
   "metadata": {},
   "outputs": [
    {
     "data": {
      "text/plain": [
       "0.0264"
      ]
     },
     "execution_count": 67,
     "metadata": {},
     "output_type": "execute_result"
    }
   ],
   "source": [
    "(np.array(p_vals) < 0.05).mean()"
   ]
  },
  {
   "cell_type": "markdown",
   "id": "d8f2ef1d",
   "metadata": {},
   "source": [
    "Количество ложноположительных случаев не превышает значения альфа, можно сделать вывод, что сплитование произведено корректно, и соединить в одну выборку контроль1 и контроль2:"
   ]
  },
  {
   "cell_type": "code",
   "execution_count": 68,
   "id": "27039346",
   "metadata": {},
   "outputs": [],
   "source": [
    "users_control = pd.concat([users_control_1,users_control_2], axis = 0)\n",
    "transactions_control = pd.concat([transactions_control_1,transactions_control_2], axis = 0)"
   ]
  },
  {
   "cell_type": "code",
   "execution_count": 69,
   "id": "5010324e",
   "metadata": {},
   "outputs": [
    {
     "data": {
      "text/html": [
       "<div>\n",
       "<style scoped>\n",
       "    .dataframe tbody tr th:only-of-type {\n",
       "        vertical-align: middle;\n",
       "    }\n",
       "\n",
       "    .dataframe tbody tr th {\n",
       "        vertical-align: top;\n",
       "    }\n",
       "\n",
       "    .dataframe thead th {\n",
       "        text-align: right;\n",
       "    }\n",
       "</style>\n",
       "<table border=\"1\" class=\"dataframe\">\n",
       "  <thead>\n",
       "    <tr style=\"text-align: right;\">\n",
       "      <th></th>\n",
       "      <th>uid</th>\n",
       "      <th>age</th>\n",
       "      <th>attraction_coeff</th>\n",
       "      <th>coins</th>\n",
       "      <th>country</th>\n",
       "      <th>visit_days</th>\n",
       "      <th>gender</th>\n",
       "      <th>age_filter_start</th>\n",
       "      <th>age_filter_end</th>\n",
       "      <th>views_count</th>\n",
       "      <th>was_premium</th>\n",
       "      <th>is_premium</th>\n",
       "      <th>total_revenue</th>\n",
       "    </tr>\n",
       "  </thead>\n",
       "  <tbody>\n",
       "    <tr>\n",
       "      <th>0</th>\n",
       "      <td>892319115</td>\n",
       "      <td>25</td>\n",
       "      <td>435</td>\n",
       "      <td>0.0</td>\n",
       "      <td>United States of America</td>\n",
       "      <td>1,2,3,4,5,6</td>\n",
       "      <td>0</td>\n",
       "      <td>22</td>\n",
       "      <td>32</td>\n",
       "      <td>982</td>\n",
       "      <td>0.0</td>\n",
       "      <td>0.0</td>\n",
       "      <td>0</td>\n",
       "    </tr>\n",
       "    <tr>\n",
       "      <th>1</th>\n",
       "      <td>891248523</td>\n",
       "      <td>29</td>\n",
       "      <td>500</td>\n",
       "      <td>0.0</td>\n",
       "      <td>United States of America</td>\n",
       "      <td>1,2</td>\n",
       "      <td>1</td>\n",
       "      <td>26</td>\n",
       "      <td>32</td>\n",
       "      <td>12</td>\n",
       "      <td>0.0</td>\n",
       "      <td>0.0</td>\n",
       "      <td>0</td>\n",
       "    </tr>\n",
       "    <tr>\n",
       "      <th>2</th>\n",
       "      <td>891670932</td>\n",
       "      <td>33</td>\n",
       "      <td>800</td>\n",
       "      <td>0.0</td>\n",
       "      <td>France</td>\n",
       "      <td>1,2,3,5,6,8,9,11,13,16</td>\n",
       "      <td>1</td>\n",
       "      <td>30</td>\n",
       "      <td>36</td>\n",
       "      <td>5</td>\n",
       "      <td>0.0</td>\n",
       "      <td>0.0</td>\n",
       "      <td>0</td>\n",
       "    </tr>\n",
       "    <tr>\n",
       "      <th>3</th>\n",
       "      <td>891060786</td>\n",
       "      <td>26</td>\n",
       "      <td>0</td>\n",
       "      <td>0.0</td>\n",
       "      <td>Argentina</td>\n",
       "      <td>1,2,3,4,5</td>\n",
       "      <td>1</td>\n",
       "      <td>23</td>\n",
       "      <td>29</td>\n",
       "      <td>0</td>\n",
       "      <td>0.0</td>\n",
       "      <td>0.0</td>\n",
       "      <td>0</td>\n",
       "    </tr>\n",
       "    <tr>\n",
       "      <th>4</th>\n",
       "      <td>892006554</td>\n",
       "      <td>35</td>\n",
       "      <td>294</td>\n",
       "      <td>0.0</td>\n",
       "      <td>United States of America</td>\n",
       "      <td>1,2,3,5,6,7,8,9,10,12,15,16,17,19</td>\n",
       "      <td>1</td>\n",
       "      <td>30</td>\n",
       "      <td>40</td>\n",
       "      <td>17</td>\n",
       "      <td>0.0</td>\n",
       "      <td>0.0</td>\n",
       "      <td>0</td>\n",
       "    </tr>\n",
       "    <tr>\n",
       "      <th>...</th>\n",
       "      <td>...</td>\n",
       "      <td>...</td>\n",
       "      <td>...</td>\n",
       "      <td>...</td>\n",
       "      <td>...</td>\n",
       "      <td>...</td>\n",
       "      <td>...</td>\n",
       "      <td>...</td>\n",
       "      <td>...</td>\n",
       "      <td>...</td>\n",
       "      <td>...</td>\n",
       "      <td>...</td>\n",
       "      <td>...</td>\n",
       "    </tr>\n",
       "    <tr>\n",
       "      <th>4259</th>\n",
       "      <td>891937401</td>\n",
       "      <td>63</td>\n",
       "      <td>242</td>\n",
       "      <td>0.0</td>\n",
       "      <td>Italy</td>\n",
       "      <td>1,2</td>\n",
       "      <td>1</td>\n",
       "      <td>50</td>\n",
       "      <td>66</td>\n",
       "      <td>33</td>\n",
       "      <td>0.0</td>\n",
       "      <td>0.0</td>\n",
       "      <td>0</td>\n",
       "    </tr>\n",
       "    <tr>\n",
       "      <th>4260</th>\n",
       "      <td>891692844</td>\n",
       "      <td>35</td>\n",
       "      <td>500</td>\n",
       "      <td>0.0</td>\n",
       "      <td>France</td>\n",
       "      <td>1,2,3,4,5,6,8,9,10,11,12,14,16</td>\n",
       "      <td>1</td>\n",
       "      <td>24</td>\n",
       "      <td>45</td>\n",
       "      <td>2</td>\n",
       "      <td>0.0</td>\n",
       "      <td>0.0</td>\n",
       "      <td>0</td>\n",
       "    </tr>\n",
       "    <tr>\n",
       "      <th>4261</th>\n",
       "      <td>891096429</td>\n",
       "      <td>41</td>\n",
       "      <td>333</td>\n",
       "      <td>0.0</td>\n",
       "      <td>United States of America</td>\n",
       "      <td>NaN</td>\n",
       "      <td>1</td>\n",
       "      <td>38</td>\n",
       "      <td>44</td>\n",
       "      <td>6</td>\n",
       "      <td>0.0</td>\n",
       "      <td>0.0</td>\n",
       "      <td>0</td>\n",
       "    </tr>\n",
       "    <tr>\n",
       "      <th>4262</th>\n",
       "      <td>891697584</td>\n",
       "      <td>48</td>\n",
       "      <td>210</td>\n",
       "      <td>0.0</td>\n",
       "      <td>United Kingdom (Great Britain)</td>\n",
       "      <td>2,3,5,7,9,10,12,14,15</td>\n",
       "      <td>1</td>\n",
       "      <td>45</td>\n",
       "      <td>51</td>\n",
       "      <td>19</td>\n",
       "      <td>0.0</td>\n",
       "      <td>0.0</td>\n",
       "      <td>0</td>\n",
       "    </tr>\n",
       "    <tr>\n",
       "      <th>4263</th>\n",
       "      <td>891095634</td>\n",
       "      <td>22</td>\n",
       "      <td>0</td>\n",
       "      <td>0.0</td>\n",
       "      <td>Italy</td>\n",
       "      <td>NaN</td>\n",
       "      <td>1</td>\n",
       "      <td>19</td>\n",
       "      <td>25</td>\n",
       "      <td>0</td>\n",
       "      <td>0.0</td>\n",
       "      <td>0.0</td>\n",
       "      <td>0</td>\n",
       "    </tr>\n",
       "  </tbody>\n",
       "</table>\n",
       "<p>8225 rows × 13 columns</p>\n",
       "</div>"
      ],
      "text/plain": [
       "            uid  age  attraction_coeff  coins                         country  \\\n",
       "0     892319115   25               435    0.0        United States of America   \n",
       "1     891248523   29               500    0.0        United States of America   \n",
       "2     891670932   33               800    0.0                          France   \n",
       "3     891060786   26                 0    0.0                       Argentina   \n",
       "4     892006554   35               294    0.0        United States of America   \n",
       "...         ...  ...               ...    ...                             ...   \n",
       "4259  891937401   63               242    0.0                           Italy   \n",
       "4260  891692844   35               500    0.0                          France   \n",
       "4261  891096429   41               333    0.0        United States of America   \n",
       "4262  891697584   48               210    0.0  United Kingdom (Great Britain)   \n",
       "4263  891095634   22                 0    0.0                           Italy   \n",
       "\n",
       "                             visit_days  gender  age_filter_start  \\\n",
       "0                           1,2,3,4,5,6       0                22   \n",
       "1                                   1,2       1                26   \n",
       "2                1,2,3,5,6,8,9,11,13,16       1                30   \n",
       "3                             1,2,3,4,5       1                23   \n",
       "4     1,2,3,5,6,7,8,9,10,12,15,16,17,19       1                30   \n",
       "...                                 ...     ...               ...   \n",
       "4259                                1,2       1                50   \n",
       "4260     1,2,3,4,5,6,8,9,10,11,12,14,16       1                24   \n",
       "4261                                NaN       1                38   \n",
       "4262              2,3,5,7,9,10,12,14,15       1                45   \n",
       "4263                                NaN       1                19   \n",
       "\n",
       "      age_filter_end  views_count  was_premium  is_premium  total_revenue  \n",
       "0                 32          982          0.0         0.0              0  \n",
       "1                 32           12          0.0         0.0              0  \n",
       "2                 36            5          0.0         0.0              0  \n",
       "3                 29            0          0.0         0.0              0  \n",
       "4                 40           17          0.0         0.0              0  \n",
       "...              ...          ...          ...         ...            ...  \n",
       "4259              66           33          0.0         0.0              0  \n",
       "4260              45            2          0.0         0.0              0  \n",
       "4261              44            6          0.0         0.0              0  \n",
       "4262              51           19          0.0         0.0              0  \n",
       "4263              25            0          0.0         0.0              0  \n",
       "\n",
       "[8225 rows x 13 columns]"
      ]
     },
     "execution_count": 69,
     "metadata": {},
     "output_type": "execute_result"
    }
   ],
   "source": [
    "users_control[users_control.total_revenue == 0]"
   ]
  },
  {
   "cell_type": "code",
   "execution_count": 70,
   "id": "2efc6167",
   "metadata": {},
   "outputs": [],
   "source": [
    "#объединим пользователей с транзакциями\n",
    "all_control = users_control.merge(transactions_control, on = 'uid', how = 'outer')"
   ]
  },
  {
   "cell_type": "code",
   "execution_count": 71,
   "id": "d810e3d3",
   "metadata": {},
   "outputs": [],
   "source": [
    "all_control['exp_group'] = 'control'"
   ]
  },
  {
   "cell_type": "code",
   "execution_count": 72,
   "id": "479a5299",
   "metadata": {},
   "outputs": [],
   "source": [
    "all_test = users_test.merge(transactions_test, on = 'uid', how = 'outer')"
   ]
  },
  {
   "cell_type": "code",
   "execution_count": 73,
   "id": "677e9b67",
   "metadata": {},
   "outputs": [],
   "source": [
    "all_test['exp_group'] = 'test'"
   ]
  },
  {
   "cell_type": "code",
   "execution_count": 74,
   "id": "52332dd7",
   "metadata": {},
   "outputs": [],
   "source": [
    "all_data = pd.concat([all_control, all_test], axis = 0)"
   ]
  },
  {
   "cell_type": "code",
   "execution_count": 75,
   "id": "10aa63ac-e140-4eee-a153-f12d38c752bd",
   "metadata": {},
   "outputs": [
    {
     "data": {
      "text/html": [
       "<div>\n",
       "<style scoped>\n",
       "    .dataframe tbody tr th:only-of-type {\n",
       "        vertical-align: middle;\n",
       "    }\n",
       "\n",
       "    .dataframe tbody tr th {\n",
       "        vertical-align: top;\n",
       "    }\n",
       "\n",
       "    .dataframe thead th {\n",
       "        text-align: right;\n",
       "    }\n",
       "</style>\n",
       "<table border=\"1\" class=\"dataframe\">\n",
       "  <thead>\n",
       "    <tr style=\"text-align: right;\">\n",
       "      <th></th>\n",
       "      <th>uid</th>\n",
       "      <th>age</th>\n",
       "      <th>attraction_coeff</th>\n",
       "      <th>coins</th>\n",
       "      <th>country_x</th>\n",
       "      <th>visit_days</th>\n",
       "      <th>gender</th>\n",
       "      <th>age_filter_start</th>\n",
       "      <th>age_filter_end</th>\n",
       "      <th>views_count</th>\n",
       "      <th>...</th>\n",
       "      <th>is_premium</th>\n",
       "      <th>total_revenue</th>\n",
       "      <th>country_y</th>\n",
       "      <th>joined_at</th>\n",
       "      <th>paid_at</th>\n",
       "      <th>revenue</th>\n",
       "      <th>payment_id</th>\n",
       "      <th>from_page</th>\n",
       "      <th>product_type</th>\n",
       "      <th>exp_group</th>\n",
       "    </tr>\n",
       "  </thead>\n",
       "  <tbody>\n",
       "    <tr>\n",
       "      <th>0</th>\n",
       "      <td>892319115</td>\n",
       "      <td>25</td>\n",
       "      <td>435</td>\n",
       "      <td>0.0</td>\n",
       "      <td>United States of America</td>\n",
       "      <td>1,2,3,4,5,6</td>\n",
       "      <td>0</td>\n",
       "      <td>22</td>\n",
       "      <td>32</td>\n",
       "      <td>982</td>\n",
       "      <td>...</td>\n",
       "      <td>0.0</td>\n",
       "      <td>0</td>\n",
       "      <td>NaN</td>\n",
       "      <td>NaT</td>\n",
       "      <td>NaT</td>\n",
       "      <td>NaN</td>\n",
       "      <td>NaN</td>\n",
       "      <td>NaN</td>\n",
       "      <td>NaN</td>\n",
       "      <td>control</td>\n",
       "    </tr>\n",
       "    <tr>\n",
       "      <th>1</th>\n",
       "      <td>891248523</td>\n",
       "      <td>29</td>\n",
       "      <td>500</td>\n",
       "      <td>0.0</td>\n",
       "      <td>United States of America</td>\n",
       "      <td>1,2</td>\n",
       "      <td>1</td>\n",
       "      <td>26</td>\n",
       "      <td>32</td>\n",
       "      <td>12</td>\n",
       "      <td>...</td>\n",
       "      <td>0.0</td>\n",
       "      <td>0</td>\n",
       "      <td>NaN</td>\n",
       "      <td>NaT</td>\n",
       "      <td>NaT</td>\n",
       "      <td>NaN</td>\n",
       "      <td>NaN</td>\n",
       "      <td>NaN</td>\n",
       "      <td>NaN</td>\n",
       "      <td>control</td>\n",
       "    </tr>\n",
       "    <tr>\n",
       "      <th>2</th>\n",
       "      <td>891670932</td>\n",
       "      <td>33</td>\n",
       "      <td>800</td>\n",
       "      <td>0.0</td>\n",
       "      <td>France</td>\n",
       "      <td>1,2,3,5,6,8,9,11,13,16</td>\n",
       "      <td>1</td>\n",
       "      <td>30</td>\n",
       "      <td>36</td>\n",
       "      <td>5</td>\n",
       "      <td>...</td>\n",
       "      <td>0.0</td>\n",
       "      <td>0</td>\n",
       "      <td>NaN</td>\n",
       "      <td>NaT</td>\n",
       "      <td>NaT</td>\n",
       "      <td>NaN</td>\n",
       "      <td>NaN</td>\n",
       "      <td>NaN</td>\n",
       "      <td>NaN</td>\n",
       "      <td>control</td>\n",
       "    </tr>\n",
       "  </tbody>\n",
       "</table>\n",
       "<p>3 rows × 21 columns</p>\n",
       "</div>"
      ],
      "text/plain": [
       "         uid  age  attraction_coeff  coins                 country_x  \\\n",
       "0  892319115   25               435    0.0  United States of America   \n",
       "1  891248523   29               500    0.0  United States of America   \n",
       "2  891670932   33               800    0.0                    France   \n",
       "\n",
       "               visit_days  gender  age_filter_start  age_filter_end  \\\n",
       "0             1,2,3,4,5,6       0                22              32   \n",
       "1                     1,2       1                26              32   \n",
       "2  1,2,3,5,6,8,9,11,13,16       1                30              36   \n",
       "\n",
       "   views_count  ...  is_premium  total_revenue  country_y joined_at paid_at  \\\n",
       "0          982  ...         0.0              0        NaN       NaT     NaT   \n",
       "1           12  ...         0.0              0        NaN       NaT     NaT   \n",
       "2            5  ...         0.0              0        NaN       NaT     NaT   \n",
       "\n",
       "  revenue  payment_id  from_page product_type exp_group  \n",
       "0     NaN         NaN        NaN          NaN   control  \n",
       "1     NaN         NaN        NaN          NaN   control  \n",
       "2     NaN         NaN        NaN          NaN   control  \n",
       "\n",
       "[3 rows x 21 columns]"
      ]
     },
     "execution_count": 75,
     "metadata": {},
     "output_type": "execute_result"
    }
   ],
   "source": [
    "all_data.head(3)"
   ]
  },
  {
   "cell_type": "markdown",
   "id": "7c14c75b",
   "metadata": {},
   "source": [
    "## 4. Страны, принимающие участие в эксперименте"
   ]
  },
  {
   "cell_type": "markdown",
   "id": "cdd90bb8",
   "metadata": {},
   "source": [
    "Поскольку цены на премиум-подписку были изменены для новых пользователей из нескольких стран, но точные страны, в которых это произошло, не уточнены, нужно вывести эти страны на основе данных о совершенных покупках. Необходимо проверить, произошло ли повышение цен на премиум-подписку (premium_no_trial) в странах, по которым у нас есть данные о транзакциях.\n",
    "Для этого сравним медианные значения по нормированной выручке по транзакциям для продукта premium_no_trial (медианные - так как они более устойчивы к экстремальным значениям)."
   ]
  },
  {
   "cell_type": "code",
   "execution_count": 76,
   "id": "5a7364b1",
   "metadata": {},
   "outputs": [],
   "source": [
    "all_data['country'] = all_data['country_x']"
   ]
  },
  {
   "cell_type": "code",
   "execution_count": 77,
   "id": "85935fa5",
   "metadata": {},
   "outputs": [
    {
     "data": {
      "text/html": [
       "<div>\n",
       "<style scoped>\n",
       "    .dataframe tbody tr th:only-of-type {\n",
       "        vertical-align: middle;\n",
       "    }\n",
       "\n",
       "    .dataframe tbody tr th {\n",
       "        vertical-align: top;\n",
       "    }\n",
       "\n",
       "    .dataframe thead th {\n",
       "        text-align: right;\n",
       "    }\n",
       "</style>\n",
       "<table border=\"1\" class=\"dataframe\">\n",
       "  <thead>\n",
       "    <tr style=\"text-align: right;\">\n",
       "      <th></th>\n",
       "      <th>country</th>\n",
       "      <th>test_revenue_median</th>\n",
       "      <th>control_revenue_median</th>\n",
       "    </tr>\n",
       "  </thead>\n",
       "  <tbody>\n",
       "    <tr>\n",
       "      <th>0</th>\n",
       "      <td>Argentina</td>\n",
       "      <td>12597.0</td>\n",
       "      <td>6292.0</td>\n",
       "    </tr>\n",
       "    <tr>\n",
       "      <th>1</th>\n",
       "      <td>Australia</td>\n",
       "      <td>12597.0</td>\n",
       "      <td>4719.0</td>\n",
       "    </tr>\n",
       "    <tr>\n",
       "      <th>2</th>\n",
       "      <td>Belgium</td>\n",
       "      <td>12597.0</td>\n",
       "      <td>6292.0</td>\n",
       "    </tr>\n",
       "    <tr>\n",
       "      <th>3</th>\n",
       "      <td>Canada</td>\n",
       "      <td>4147.0</td>\n",
       "      <td>4706.0</td>\n",
       "    </tr>\n",
       "    <tr>\n",
       "      <th>4</th>\n",
       "      <td>Chile</td>\n",
       "      <td>8190.0</td>\n",
       "      <td>6292.0</td>\n",
       "    </tr>\n",
       "    <tr>\n",
       "      <th>5</th>\n",
       "      <td>France</td>\n",
       "      <td>7098.0</td>\n",
       "      <td>6292.0</td>\n",
       "    </tr>\n",
       "    <tr>\n",
       "      <th>6</th>\n",
       "      <td>Germany</td>\n",
       "      <td>5167.5</td>\n",
       "      <td>6279.0</td>\n",
       "    </tr>\n",
       "    <tr>\n",
       "      <th>7</th>\n",
       "      <td>Israel</td>\n",
       "      <td>12597.0</td>\n",
       "      <td>6292.0</td>\n",
       "    </tr>\n",
       "    <tr>\n",
       "      <th>8</th>\n",
       "      <td>Italy</td>\n",
       "      <td>7839.0</td>\n",
       "      <td>6292.0</td>\n",
       "    </tr>\n",
       "    <tr>\n",
       "      <th>9</th>\n",
       "      <td>Latvia</td>\n",
       "      <td>6357.0</td>\n",
       "      <td>NaN</td>\n",
       "    </tr>\n",
       "    <tr>\n",
       "      <th>10</th>\n",
       "      <td>Mexico</td>\n",
       "      <td>6214.0</td>\n",
       "      <td>NaN</td>\n",
       "    </tr>\n",
       "    <tr>\n",
       "      <th>11</th>\n",
       "      <td>Spain</td>\n",
       "      <td>6331.0</td>\n",
       "      <td>6292.0</td>\n",
       "    </tr>\n",
       "    <tr>\n",
       "      <th>12</th>\n",
       "      <td>Turkey</td>\n",
       "      <td>3614.0</td>\n",
       "      <td>3614.0</td>\n",
       "    </tr>\n",
       "    <tr>\n",
       "      <th>13</th>\n",
       "      <td>United Arab Emirates</td>\n",
       "      <td>9217.0</td>\n",
       "      <td>6292.0</td>\n",
       "    </tr>\n",
       "    <tr>\n",
       "      <th>14</th>\n",
       "      <td>United Kingdom (Great Britain)</td>\n",
       "      <td>7319.0</td>\n",
       "      <td>6292.0</td>\n",
       "    </tr>\n",
       "    <tr>\n",
       "      <th>15</th>\n",
       "      <td>United States of America</td>\n",
       "      <td>9100.0</td>\n",
       "      <td>4998.5</td>\n",
       "    </tr>\n",
       "    <tr>\n",
       "      <th>16</th>\n",
       "      <td>Austria</td>\n",
       "      <td>NaN</td>\n",
       "      <td>4056.0</td>\n",
       "    </tr>\n",
       "    <tr>\n",
       "      <th>17</th>\n",
       "      <td>India</td>\n",
       "      <td>NaN</td>\n",
       "      <td>4810.0</td>\n",
       "    </tr>\n",
       "    <tr>\n",
       "      <th>18</th>\n",
       "      <td>Portugal</td>\n",
       "      <td>NaN</td>\n",
       "      <td>6292.0</td>\n",
       "    </tr>\n",
       "    <tr>\n",
       "      <th>19</th>\n",
       "      <td>Switzerland</td>\n",
       "      <td>NaN</td>\n",
       "      <td>4777.5</td>\n",
       "    </tr>\n",
       "    <tr>\n",
       "      <th>20</th>\n",
       "      <td>Ukraine</td>\n",
       "      <td>NaN</td>\n",
       "      <td>6357.0</td>\n",
       "    </tr>\n",
       "  </tbody>\n",
       "</table>\n",
       "</div>"
      ],
      "text/plain": [
       "                           country  test_revenue_median  \\\n",
       "0                        Argentina              12597.0   \n",
       "1                        Australia              12597.0   \n",
       "2                          Belgium              12597.0   \n",
       "3                           Canada               4147.0   \n",
       "4                            Chile               8190.0   \n",
       "5                           France               7098.0   \n",
       "6                          Germany               5167.5   \n",
       "7                           Israel              12597.0   \n",
       "8                            Italy               7839.0   \n",
       "9                           Latvia               6357.0   \n",
       "10                          Mexico               6214.0   \n",
       "11                           Spain               6331.0   \n",
       "12                          Turkey               3614.0   \n",
       "13            United Arab Emirates               9217.0   \n",
       "14  United Kingdom (Great Britain)               7319.0   \n",
       "15        United States of America               9100.0   \n",
       "16                         Austria                  NaN   \n",
       "17                           India                  NaN   \n",
       "18                        Portugal                  NaN   \n",
       "19                     Switzerland                  NaN   \n",
       "20                         Ukraine                  NaN   \n",
       "\n",
       "    control_revenue_median  \n",
       "0                   6292.0  \n",
       "1                   4719.0  \n",
       "2                   6292.0  \n",
       "3                   4706.0  \n",
       "4                   6292.0  \n",
       "5                   6292.0  \n",
       "6                   6279.0  \n",
       "7                   6292.0  \n",
       "8                   6292.0  \n",
       "9                      NaN  \n",
       "10                     NaN  \n",
       "11                  6292.0  \n",
       "12                  3614.0  \n",
       "13                  6292.0  \n",
       "14                  6292.0  \n",
       "15                  4998.5  \n",
       "16                  4056.0  \n",
       "17                  4810.0  \n",
       "18                  6292.0  \n",
       "19                  4777.5  \n",
       "20                  6357.0  "
      ]
     },
     "execution_count": 77,
     "metadata": {},
     "output_type": "execute_result"
    }
   ],
   "source": [
    "control_revenue_median = all_data[all_data.exp_group == 'control'] \\\n",
    "    .query('product_type == \"premium_no_trial\"')\\\n",
    "    .groupby('country', as_index=False)\\\n",
    "    .agg({'revenue': 'median'})\\\n",
    "    .rename(columns={'revenue': 'control_revenue_median'})\n",
    "\n",
    "test_revenue_median = all_data[all_data.exp_group == 'test'] \\\n",
    "    .query('product_type == \"premium_no_trial\"')\\\n",
    "    .groupby('country', as_index=False) \\\n",
    "    .agg({'revenue': 'median'}) \\\n",
    "    .rename(columns={'revenue': 'test_revenue_median'})        \n",
    "\n",
    "prem_cost_by_country = test_revenue_median.merge(control_revenue_median, how='outer', on='country') \n",
    "    \n",
    "prem_cost_by_country"
   ]
  },
  {
   "cell_type": "markdown",
   "id": "a9ddd97f",
   "metadata": {},
   "source": [
    "Так как в данных присутствуют страны, где есть тест , но нет контроля и наоборот, то можно сделать предположение, что на данные страны нововведение не раскатывалось, поэтому было принято решение избавиться от них."
   ]
  },
  {
   "cell_type": "code",
   "execution_count": 78,
   "id": "2b0b83f4",
   "metadata": {},
   "outputs": [],
   "source": [
    "unwanted_countries = ['Austria', 'India', 'Portugal', 'Switzerland', 'Ukraine', 'Latvia', 'Mexico']"
   ]
  },
  {
   "cell_type": "code",
   "execution_count": 79,
   "id": "6657a3ec",
   "metadata": {},
   "outputs": [],
   "source": [
    "prem_cost_by_country = prem_cost_by_country.query('country not in @unwanted_countries')"
   ]
  },
  {
   "cell_type": "code",
   "execution_count": 80,
   "id": "595f5a3c",
   "metadata": {},
   "outputs": [
    {
     "data": {
      "text/plain": [
       "['Argentina',\n",
       " 'Australia',\n",
       " 'Belgium',\n",
       " 'Canada',\n",
       " 'Chile',\n",
       " 'France',\n",
       " 'Germany',\n",
       " 'Israel',\n",
       " 'Italy',\n",
       " 'Spain',\n",
       " 'Turkey',\n",
       " 'United Arab Emirates',\n",
       " 'United Kingdom (Great Britain)',\n",
       " 'United States of America']"
      ]
     },
     "execution_count": 80,
     "metadata": {},
     "output_type": "execute_result"
    }
   ],
   "source": [
    "exp_countries = prem_cost_by_country.country.to_list()\n",
    "exp_countries"
   ]
  },
  {
   "cell_type": "code",
   "execution_count": 81,
   "id": "a88c633a",
   "metadata": {},
   "outputs": [],
   "source": [
    "all_data = all_data.query('country in @exp_countries')"
   ]
  },
  {
   "cell_type": "code",
   "execution_count": 82,
   "id": "9f610956",
   "metadata": {},
   "outputs": [
    {
     "data": {
      "text/plain": [
       "(12718, 22)"
      ]
     },
     "execution_count": 82,
     "metadata": {},
     "output_type": "execute_result"
    }
   ],
   "source": [
    "all_data.shape"
   ]
  },
  {
   "cell_type": "markdown",
   "id": "4bd657a8",
   "metadata": {},
   "source": [
    "## 5. Проверка гипотез. A/B тест"
   ]
  },
  {
   "cell_type": "markdown",
   "id": "573ca205",
   "metadata": {},
   "source": [
    "Метрики, которые будем использовать:\n",
    "\n",
    "1.  Конверсия в премиум подписку (Conversion Rate)\n",
    "2.  ARPU (Average Revenue Per User)\n",
    "3. ARPPU (Average Revenue Per Paying User)\n",
    "\n",
    "Гипотезы, которые будем проверять:\n",
    "- Увеличилась конверсия (CR)\n",
    "- Увеличился доход на пользователя (ARPU)\n",
    "- Увеличился доход на платящего пользователя(ARPPU)\n"
   ]
  },
  {
   "cell_type": "markdown",
   "id": "c619d44c",
   "metadata": {},
   "source": [
    "### Гипотеза 1, 2, 3: Изменились CR, ARPU, APRRU  в тестовой группе"
   ]
  },
  {
   "cell_type": "markdown",
   "id": "bed072d8",
   "metadata": {},
   "source": [
    "Проверим, повлияло ли изменение стоимости премиум-подписки на величины нормированной выручки в контрольной и тестовой группах. Для начала рассчитаем все метрики, которые будем проверять:"
   ]
  },
  {
   "cell_type": "code",
   "execution_count": 83,
   "id": "03d71b6c",
   "metadata": {},
   "outputs": [
    {
     "data": {
      "text/html": [
       "<div>\n",
       "<style scoped>\n",
       "    .dataframe tbody tr th:only-of-type {\n",
       "        vertical-align: middle;\n",
       "    }\n",
       "\n",
       "    .dataframe tbody tr th {\n",
       "        vertical-align: top;\n",
       "    }\n",
       "\n",
       "    .dataframe thead th {\n",
       "        text-align: right;\n",
       "    }\n",
       "</style>\n",
       "<table border=\"1\" class=\"dataframe\">\n",
       "  <thead>\n",
       "    <tr style=\"text-align: right;\">\n",
       "      <th></th>\n",
       "      <th>exp_group</th>\n",
       "      <th>size</th>\n",
       "      <th>purchases</th>\n",
       "      <th>ARPPU</th>\n",
       "      <th>CR</th>\n",
       "      <th>ARPU</th>\n",
       "    </tr>\n",
       "  </thead>\n",
       "  <tbody>\n",
       "    <tr>\n",
       "      <th>0</th>\n",
       "      <td>control</td>\n",
       "      <td>8212</td>\n",
       "      <td>360</td>\n",
       "      <td>6569.3</td>\n",
       "      <td>0.044</td>\n",
       "      <td>289.0</td>\n",
       "    </tr>\n",
       "    <tr>\n",
       "      <th>1</th>\n",
       "      <td>test</td>\n",
       "      <td>4107</td>\n",
       "      <td>141</td>\n",
       "      <td>8963.2</td>\n",
       "      <td>0.034</td>\n",
       "      <td>304.7</td>\n",
       "    </tr>\n",
       "  </tbody>\n",
       "</table>\n",
       "</div>"
      ],
      "text/plain": [
       "  exp_group  size  purchases   ARPPU     CR   ARPU\n",
       "0   control  8212        360  6569.3  0.044  289.0\n",
       "1      test  4107        141  8963.2  0.034  304.7"
      ]
     },
     "execution_count": 83,
     "metadata": {},
     "output_type": "execute_result"
    }
   ],
   "source": [
    "metrics = pd.DataFrame({'size': all_data.groupby('exp_group').uid.nunique(),\n",
    "                        'purchases': all_data.query('revenue > 0').groupby('exp_group').uid.nunique(),\n",
    "                        'ARPPU': round(all_data.query('revenue > 0').groupby('exp_group').revenue.mean(), 1),\n",
    "                        'CR': round(all_data.query('revenue > 0').groupby('exp_group').uid.nunique() / \\\n",
    "                                    all_data.groupby('exp_group').uid.nunique(), 3)\n",
    "                        }).reset_index ()\n",
    "metrics = metrics.assign(ARPU = round(metrics.ARPPU * metrics.CR, 1))\n",
    "metrics"
   ]
  },
  {
   "cell_type": "code",
   "execution_count": 84,
   "id": "7542b0c0",
   "metadata": {},
   "outputs": [],
   "source": [
    "control_group = all_data[all_data.exp_group == 'control']\n",
    "test_group = all_data[all_data.exp_group == 'test']"
   ]
  },
  {
   "cell_type": "markdown",
   "id": "502b4428",
   "metadata": {},
   "source": [
    "Поскольку стоимость была изменена для одного типа продукта - премиум подписки, то будем отбирать только данный тип продукта для теста"
   ]
  },
  {
   "cell_type": "code",
   "execution_count": 85,
   "id": "26335634",
   "metadata": {},
   "outputs": [
    {
     "data": {
      "image/png": "[encoded data removed]",
      "text/plain": [
       "<Figure size 640x480 with 1 Axes>"
      ]
     },
     "metadata": {},
     "output_type": "display_data"
    }
   ],
   "source": [
    "sns.histplot(control_group.query('product_type == \"premium_no_trial\"').total_revenue, label='control', kde=True)\n",
    "sns.histplot(test_group.query('product_type == \"premium_no_trial\"').total_revenue, label='test', kde=True)\n",
    "plt.legend();"
   ]
  },
  {
   "cell_type": "markdown",
   "id": "bf5d0451",
   "metadata": {},
   "source": [
    "По данному графику можно увидеть, что плотность распределения выручки на пользователя в тестовой группе стало более смещенным вправо от нуля. Визуально видно, что оба распределения не являются нормальными, в чем убедимся далее с помощью специальных методов."
   ]
  },
  {
   "cell_type": "code",
   "execution_count": 86,
   "id": "9e1e40b1",
   "metadata": {},
   "outputs": [
    {
     "data": {
      "text/html": [
       "<div>\n",
       "<style scoped>\n",
       "    .dataframe tbody tr th:only-of-type {\n",
       "        vertical-align: middle;\n",
       "    }\n",
       "\n",
       "    .dataframe tbody tr th {\n",
       "        vertical-align: top;\n",
       "    }\n",
       "\n",
       "    .dataframe thead th {\n",
       "        text-align: right;\n",
       "    }\n",
       "</style>\n",
       "<table border=\"1\" class=\"dataframe\">\n",
       "  <thead>\n",
       "    <tr style=\"text-align: right;\">\n",
       "      <th></th>\n",
       "      <th>W</th>\n",
       "      <th>pval</th>\n",
       "      <th>normal</th>\n",
       "    </tr>\n",
       "    <tr>\n",
       "      <th>exp_group</th>\n",
       "      <th></th>\n",
       "      <th></th>\n",
       "      <th></th>\n",
       "    </tr>\n",
       "  </thead>\n",
       "  <tbody>\n",
       "    <tr>\n",
       "      <th>control</th>\n",
       "      <td>18346.411018</td>\n",
       "      <td>0.0</td>\n",
       "      <td>False</td>\n",
       "    </tr>\n",
       "    <tr>\n",
       "      <th>test</th>\n",
       "      <td>6348.869633</td>\n",
       "      <td>0.0</td>\n",
       "      <td>False</td>\n",
       "    </tr>\n",
       "  </tbody>\n",
       "</table>\n",
       "</div>"
      ],
      "text/plain": [
       "                      W  pval  normal\n",
       "exp_group                            \n",
       "control    18346.411018   0.0   False\n",
       "test        6348.869633   0.0   False"
      ]
     },
     "execution_count": 86,
     "metadata": {},
     "output_type": "execute_result"
    }
   ],
   "source": [
    "pg.normality(data=all_data, dv='total_revenue', group='exp_group', method='normaltest')"
   ]
  },
  {
   "cell_type": "markdown",
   "id": "a0baf83d",
   "metadata": {},
   "source": [
    "Проверим также нормальность распределения ARPU и ARPPU в тестовой и контрольной группах с помощью теста Шапиро-Уилка"
   ]
  },
  {
   "cell_type": "code",
   "execution_count": 87,
   "id": "bf769780",
   "metadata": {},
   "outputs": [
    {
     "name": "stdout",
     "output_type": "stream",
     "text": [
      "p-value по ARPU в контрольной группе = 0.00000\n",
      "p-value по ARPU в тестовой группе = 0.00000\n"
     ]
    },
    {
     "name": "stderr",
     "output_type": "stream",
     "text": [
      "C:\\Users\\user\\AppData\\Local\\Programs\\Python\\Python312\\Lib\\site-packages\\scipy\\stats\\_morestats.py:1882: UserWarning: p-value may not be accurate for N > 5000.\n",
      "  warnings.warn(\"p-value may not be accurate for N > 5000.\")\n"
     ]
    }
   ],
   "source": [
    "# ARPU\n",
    "control = control_group['total_revenue']\n",
    "test = test_group['total_revenue']\n",
    "\n",
    "test_stat, pvalue = ss.shapiro(control)\n",
    "print(f'p-value по ARPU в контрольной группе = {pvalue:.5f}')\n",
    "test_stat, pvalue = ss.shapiro(test)\n",
    "print(f'p-value по ARPU в тестовой группе = {pvalue:.5f}')"
   ]
  },
  {
   "cell_type": "code",
   "execution_count": 88,
   "id": "054a116c",
   "metadata": {},
   "outputs": [
    {
     "name": "stdout",
     "output_type": "stream",
     "text": [
      "p-value по ARPPU в контрольной группе = 0.00000\n",
      "p-value по ARPPU в тестовой группе = 0.00000\n"
     ]
    }
   ],
   "source": [
    "# ARPPU\n",
    "control = control_group[control_group['total_revenue'] > 0].total_revenue\n",
    "test = test_group[test_group['total_revenue'] > 0].total_revenue\n",
    "\n",
    "test_stat, pvalue = ss.shapiro(control)\n",
    "print(f'p-value по ARPPU в контрольной группе = {pvalue:.5f}')\n",
    "test_stat, pvalue = ss.shapiro(test)\n",
    "print(f'p-value по ARPPU в тестовой группе = {pvalue:.5f}')"
   ]
  },
  {
   "cell_type": "markdown",
   "id": "e0af8800",
   "metadata": {},
   "source": [
    "Будем использовать t-тест для сравнения средних в качестве основного теста, а также посмотрим, как результат согласуется с результатом бутстрэпа."
   ]
  },
  {
   "cell_type": "code",
   "execution_count": 89,
   "id": "a81fa937",
   "metadata": {},
   "outputs": [],
   "source": [
    "def get_bootstrap(\n",
    "    data_column_1, # числовые значения первой выборки\n",
    "    data_column_2, # числовые значения второй выборки\n",
    "    boot_it = 1000, # количество бутстрэп-подвыборок\n",
    "    bootstrap_conf_level = 0.95, # уровень значимости\n",
    "    name = ''\n",
    "):\n",
    "    boot_len = max([len(data_column_1), len(data_column_2)])\n",
    "    boot_data = []\n",
    "    for i in tqdm(range(boot_it)): # извлекаем подвыборки\n",
    "        samples_1 = data_column_1.sample(boot_len, replace = True).values\n",
    "        samples_2 = data_column_2.sample(boot_len, replace = True).values\n",
    "        boot_data.append(np.mean(samples_1-samples_2)) \n",
    "        \n",
    "    pd_boot_data = pd.DataFrame(boot_data)\n",
    "        \n",
    "    left_quant = (1 - bootstrap_conf_level)/2\n",
    "    right_quant = 1 - (1 - bootstrap_conf_level) / 2\n",
    "    ci = pd_boot_data.quantile([left_quant, right_quant])\n",
    "        \n",
    "    p_1 = norm.cdf(x = 0, loc = np.mean(boot_data), scale = np.std(boot_data))\n",
    "    p_2 = norm.cdf(x = 0, loc = -np.mean(boot_data), scale = np.std(boot_data))\n",
    "    p_value = min(p_1, p_2) * 2\n",
    "        \n",
    "    # Визуализация\n",
    "    plt.hist(pd_boot_data[0], bins = 50, color = 'red', alpha = 0.3)\n",
    "    \n",
    "    plt.style.use('ggplot')\n",
    "    plt.vlines(ci,ymin=0,ymax=50,linestyle='--', color = 'red')\n",
    "    plt.xlabel('boot_data')\n",
    "    plt.ylabel('frequency')\n",
    "    plt.title(f\"Histogram of boot_data for {name}\")\n",
    "    plt.show()\n",
    "       \n",
    "    return {\"boot_data\": boot_data, \n",
    "            \"ci\": ci, \n",
    "            \"p_value\": p_value}"
   ]
  },
  {
   "cell_type": "code",
   "execution_count": 102,
   "id": "3cc31247",
   "metadata": {},
   "outputs": [
    {
     "name": "stderr",
     "output_type": "stream",
     "text": [
      "100%|████████████████████████████████████████████████████████████████████████████| 1000/1000 [00:00<00:00, 2038.59it/s]\n"
     ]
    },
    {
     "data": {
      "image/png": "[encoded data removed]",
      "text/plain": [
       "<Figure size 640x480 with 1 Axes>"
      ]
     },
     "metadata": {},
     "output_type": "display_data"
    },
    {
     "name": "stdout",
     "output_type": "stream",
     "text": [
      "p-value : 0.000182943735915\n"
     ]
    }
   ],
   "source": [
    "#ARPPU\n",
    "control = control_group[control_group['total_revenue'] > 0]['revenue']\n",
    "test = test_group[test_group['total_revenue'] > 0]['revenue']\n",
    "\n",
    "booted_data_mean = get_bootstrap(control, test, 1000, name = 'ARPPU')\n",
    "print(f\"p-value : {round(ss.ttest_ind(control, test,alternative='two-sided')[1],15)}\")"
   ]
  },
  {
   "cell_type": "code",
   "execution_count": 103,
   "id": "65000799",
   "metadata": {},
   "outputs": [
    {
     "name": "stderr",
     "output_type": "stream",
     "text": [
      "100%|█████████████████████████████████████████████████████████████████████████████| 1000/1000 [00:01<00:00, 515.14it/s]\n"
     ]
    },
    {
     "data": {
      "image/png": "[encoded data removed]",
      "text/plain": [
       "<Figure size 640x480 with 1 Axes>"
      ]
     },
     "metadata": {},
     "output_type": "display_data"
    },
    {
     "name": "stdout",
     "output_type": "stream",
     "text": [
      "p-value : 0.0645919337\n"
     ]
    }
   ],
   "source": [
    "#ARPU\n",
    "control = control_group.total_revenue\n",
    "test = test_group.total_revenue\n",
    "\n",
    "booted_data_mean = get_bootstrap(control, test, 1000, name = 'ARPU')\n",
    "print(f\"p-value : {round(ss.ttest_ind(control, test, alternative='two-sided')[1],10)}\")"
   ]
  },
  {
   "cell_type": "markdown",
   "id": "e4ca7809",
   "metadata": {},
   "source": [
    "Как видим, p-value для ARPPU меньше 0.05 и доверительный интервал не захватывает нулевое значение. ARPPU является для нас интересным показателем, так как рассматривает платящих пользователей, составляющих меньшую часть от общего количества пользователей подобных сервисов, и вместе с тем основным источником дохода для компании. Важно выяснить, как увеличение стоимости подписки будет влиять на среднюю выручку с платящего пользователя, так как вряд ли повышение стоимости подписки может положительно повлиять на неплатящих пользователей.\n",
    "\n",
    "ARPU при этом статистически значимо не изменилось.\n",
    "\n",
    "Таким образом, можно сделать вывод, что обнаружены статистически значимые отличия по данным метрикам между тестовой и контрольной выборкой, есть основания отклонить H0 (отличий нет) в пользу H1 (в тестовой выборке выше показатель по выручке на платящего пользователя )\n"
   ]
  },
  {
   "cell_type": "markdown",
   "id": "fd9236d1",
   "metadata": {
    "tags": []
   },
   "source": [
    "## 6. Конверсия в премиум "
   ]
  },
  {
   "cell_type": "markdown",
   "id": "90a6d837",
   "metadata": {},
   "source": [
    "Проверим дополнительно конверсию в премиум пользователей. Отметим пользователей, купивших премиум хотя бы один раз за время эксперимента"
   ]
  },
  {
   "cell_type": "code",
   "execution_count": 104,
   "id": "8c327f5a",
   "metadata": {},
   "outputs": [],
   "source": [
    "prem_no_trial_lst = all_data.query('product_type == \"premium_no_trial\"').uid.unique()"
   ]
  },
  {
   "cell_type": "code",
   "execution_count": 105,
   "id": "22b5d2c1",
   "metadata": {},
   "outputs": [],
   "source": [
    "all_data['premium_no_trial'] = all_data.uid.apply(lambda x: 1 if x in prem_no_trial_lst else 0)"
   ]
  },
  {
   "cell_type": "markdown",
   "id": "8a248bec",
   "metadata": {},
   "source": [
    "В качестве статистического критерия будем использовать хи-квадрат"
   ]
  },
  {
   "cell_type": "code",
   "execution_count": 106,
   "id": "f9f2d861",
   "metadata": {},
   "outputs": [],
   "source": [
    "all_test = all_data[all_data.exp_group == 'test']\n",
    "all_control = all_data[all_data.exp_group == 'control']"
   ]
  },
  {
   "cell_type": "code",
   "execution_count": 107,
   "id": "39e28704",
   "metadata": {},
   "outputs": [],
   "source": [
    "expected, observed, stats = chi2_independence(all_data, x= 'premium_no_trial', y = 'exp_group')"
   ]
  },
  {
   "cell_type": "code",
   "execution_count": 108,
   "id": "c4572178",
   "metadata": {},
   "outputs": [
    {
     "data": {
      "text/html": [
       "<div>\n",
       "<style scoped>\n",
       "    .dataframe tbody tr th:only-of-type {\n",
       "        vertical-align: middle;\n",
       "    }\n",
       "\n",
       "    .dataframe tbody tr th {\n",
       "        vertical-align: top;\n",
       "    }\n",
       "\n",
       "    .dataframe thead th {\n",
       "        text-align: right;\n",
       "    }\n",
       "</style>\n",
       "<table border=\"1\" class=\"dataframe\">\n",
       "  <thead>\n",
       "    <tr style=\"text-align: right;\">\n",
       "      <th></th>\n",
       "      <th>test</th>\n",
       "      <th>lambda</th>\n",
       "      <th>chi2</th>\n",
       "      <th>dof</th>\n",
       "      <th>pval</th>\n",
       "      <th>cramer</th>\n",
       "      <th>power</th>\n",
       "    </tr>\n",
       "  </thead>\n",
       "  <tbody>\n",
       "    <tr>\n",
       "      <th>0</th>\n",
       "      <td>pearson</td>\n",
       "      <td>1.000000</td>\n",
       "      <td>9.920504</td>\n",
       "      <td>1.0</td>\n",
       "      <td>0.001634</td>\n",
       "      <td>0.027929</td>\n",
       "      <td>0.882922</td>\n",
       "    </tr>\n",
       "    <tr>\n",
       "      <th>1</th>\n",
       "      <td>cressie-read</td>\n",
       "      <td>0.666667</td>\n",
       "      <td>10.032930</td>\n",
       "      <td>1.0</td>\n",
       "      <td>0.001538</td>\n",
       "      <td>0.028087</td>\n",
       "      <td>0.886383</td>\n",
       "    </tr>\n",
       "    <tr>\n",
       "      <th>2</th>\n",
       "      <td>log-likelihood</td>\n",
       "      <td>0.000000</td>\n",
       "      <td>10.274807</td>\n",
       "      <td>1.0</td>\n",
       "      <td>0.001349</td>\n",
       "      <td>0.028423</td>\n",
       "      <td>0.893521</td>\n",
       "    </tr>\n",
       "    <tr>\n",
       "      <th>3</th>\n",
       "      <td>freeman-tukey</td>\n",
       "      <td>-0.500000</td>\n",
       "      <td>10.471963</td>\n",
       "      <td>1.0</td>\n",
       "      <td>0.001212</td>\n",
       "      <td>0.028695</td>\n",
       "      <td>0.899036</td>\n",
       "    </tr>\n",
       "    <tr>\n",
       "      <th>4</th>\n",
       "      <td>mod-log-likelihood</td>\n",
       "      <td>-1.000000</td>\n",
       "      <td>10.683496</td>\n",
       "      <td>1.0</td>\n",
       "      <td>0.001081</td>\n",
       "      <td>0.028983</td>\n",
       "      <td>0.904665</td>\n",
       "    </tr>\n",
       "    <tr>\n",
       "      <th>5</th>\n",
       "      <td>neyman</td>\n",
       "      <td>-2.000000</td>\n",
       "      <td>11.153178</td>\n",
       "      <td>1.0</td>\n",
       "      <td>0.000839</td>\n",
       "      <td>0.029614</td>\n",
       "      <td>0.916156</td>\n",
       "    </tr>\n",
       "  </tbody>\n",
       "</table>\n",
       "</div>"
      ],
      "text/plain": [
       "                 test    lambda       chi2  dof      pval    cramer     power\n",
       "0             pearson  1.000000   9.920504  1.0  0.001634  0.027929  0.882922\n",
       "1        cressie-read  0.666667  10.032930  1.0  0.001538  0.028087  0.886383\n",
       "2      log-likelihood  0.000000  10.274807  1.0  0.001349  0.028423  0.893521\n",
       "3       freeman-tukey -0.500000  10.471963  1.0  0.001212  0.028695  0.899036\n",
       "4  mod-log-likelihood -1.000000  10.683496  1.0  0.001081  0.028983  0.904665\n",
       "5              neyman -2.000000  11.153178  1.0  0.000839  0.029614  0.916156"
      ]
     },
     "execution_count": 108,
     "metadata": {},
     "output_type": "execute_result"
    }
   ],
   "source": [
    "stats"
   ]
  },
  {
   "cell_type": "code",
   "execution_count": 109,
   "id": "6c37ad5d",
   "metadata": {},
   "outputs": [
    {
     "data": {
      "text/html": [
       "<div>\n",
       "<style scoped>\n",
       "    .dataframe tbody tr th:only-of-type {\n",
       "        vertical-align: middle;\n",
       "    }\n",
       "\n",
       "    .dataframe tbody tr th {\n",
       "        vertical-align: top;\n",
       "    }\n",
       "\n",
       "    .dataframe thead th {\n",
       "        text-align: right;\n",
       "    }\n",
       "</style>\n",
       "<table border=\"1\" class=\"dataframe\">\n",
       "  <thead>\n",
       "    <tr style=\"text-align: right;\">\n",
       "      <th>exp_group</th>\n",
       "      <th>control</th>\n",
       "      <th>test</th>\n",
       "    </tr>\n",
       "    <tr>\n",
       "      <th>premium_no_trial</th>\n",
       "      <th></th>\n",
       "      <th></th>\n",
       "    </tr>\n",
       "  </thead>\n",
       "  <tbody>\n",
       "    <tr>\n",
       "      <th>0</th>\n",
       "      <td>8148.624627</td>\n",
       "      <td>4049.375373</td>\n",
       "    </tr>\n",
       "    <tr>\n",
       "      <th>1</th>\n",
       "      <td>347.375373</td>\n",
       "      <td>172.624627</td>\n",
       "    </tr>\n",
       "  </tbody>\n",
       "</table>\n",
       "</div>"
      ],
      "text/plain": [
       "exp_group             control         test\n",
       "premium_no_trial                          \n",
       "0                 8148.624627  4049.375373\n",
       "1                  347.375373   172.624627"
      ]
     },
     "execution_count": 109,
     "metadata": {},
     "output_type": "execute_result"
    }
   ],
   "source": [
    "expected"
   ]
  },
  {
   "cell_type": "code",
   "execution_count": 110,
   "id": "dc143e08",
   "metadata": {},
   "outputs": [
    {
     "data": {
      "text/html": [
       "<div>\n",
       "<style scoped>\n",
       "    .dataframe tbody tr th:only-of-type {\n",
       "        vertical-align: middle;\n",
       "    }\n",
       "\n",
       "    .dataframe tbody tr th {\n",
       "        vertical-align: top;\n",
       "    }\n",
       "\n",
       "    .dataframe thead th {\n",
       "        text-align: right;\n",
       "    }\n",
       "</style>\n",
       "<table border=\"1\" class=\"dataframe\">\n",
       "  <thead>\n",
       "    <tr style=\"text-align: right;\">\n",
       "      <th>exp_group</th>\n",
       "      <th>control</th>\n",
       "      <th>test</th>\n",
       "    </tr>\n",
       "    <tr>\n",
       "      <th>premium_no_trial</th>\n",
       "      <th></th>\n",
       "      <th></th>\n",
       "    </tr>\n",
       "  </thead>\n",
       "  <tbody>\n",
       "    <tr>\n",
       "      <th>0</th>\n",
       "      <td>8115.5</td>\n",
       "      <td>4082.5</td>\n",
       "    </tr>\n",
       "    <tr>\n",
       "      <th>1</th>\n",
       "      <td>380.5</td>\n",
       "      <td>139.5</td>\n",
       "    </tr>\n",
       "  </tbody>\n",
       "</table>\n",
       "</div>"
      ],
      "text/plain": [
       "exp_group         control    test\n",
       "premium_no_trial                 \n",
       "0                  8115.5  4082.5\n",
       "1                   380.5   139.5"
      ]
     },
     "execution_count": 110,
     "metadata": {},
     "output_type": "execute_result"
    }
   ],
   "source": [
    "observed"
   ]
  },
  {
   "cell_type": "code",
   "execution_count": 111,
   "id": "a4080455",
   "metadata": {},
   "outputs": [],
   "source": [
    "cr_control = round(observed.control[1]/observed.control[0]*100,2)"
   ]
  },
  {
   "cell_type": "code",
   "execution_count": 112,
   "id": "23851cd9",
   "metadata": {},
   "outputs": [],
   "source": [
    "cr_test = round(observed.test[1]/observed.test[0]*100,2)"
   ]
  },
  {
   "cell_type": "markdown",
   "id": "cec76e65",
   "metadata": {},
   "source": [
    "Значение p-value меньше уровня значимости, следовательно, конверсия не равна. Можно заметить, что в тестовой группе она ниже. Посчитаем:"
   ]
  },
  {
   "cell_type": "code",
   "execution_count": 113,
   "id": "fbd9272e",
   "metadata": {},
   "outputs": [
    {
     "name": "stdout",
     "output_type": "stream",
     "text": [
      "Конверсия в премиум в контрольной группе - 4.69% , в тестовой - 3.42%\n"
     ]
    }
   ],
   "source": [
    "print(f'Конверсия в премиум в контрольной группе - {cr_control}% , в тестовой - {cr_test}%')"
   ]
  },
  {
   "cell_type": "markdown",
   "id": "9f3976a7",
   "metadata": {},
   "source": [
    "Отметим, что полученные значения по конверсии согласуются с полученными другим способом в п.5"
   ]
  },
  {
   "cell_type": "markdown",
   "id": "1e8db37c",
   "metadata": {},
   "source": [
    "## Выводы"
   ]
  },
  {
   "cell_type": "markdown",
   "id": "e98b18a5",
   "metadata": {},
   "source": [
    "Целью эксперимента было проверить, влияет ли увеличение стоимости премиум-подписки для новых пользователей на общую выручку компании. Для этого проверялись в совокупности такие метрики, как средняя выручка на платящего пользователя, ARPU, ARPPU, CR.\n",
    "\n",
    "По ходу работы были сделаны следующие выводы:\n",
    "\n",
    "-Данные подготовлены не идеально, в них присутствуют дубликаты, а также пользователи, не попадающие в рассматриваемый временной диапазон.\n",
    "\n",
    "-Была обнаружена ошибка фиксации даты платежей, в некоторых транзакциях автоматическая система считывает месяц как день и наоборот.\n",
    "\n",
    "-Было обнаружено несоответствие суммы выручки на пользователя в \"транзакциях\" и в \"пользователях\", стоит обратить внимание на данную ошибку сбора данных\n",
    "\n",
    "-Разделение по группам было честным и равномерным по основным признакам\n",
    "\n",
    "-Группы засплитованы корректно по результатам A/A теста\n",
    "\n",
    "-Изменение стоимости премиум-подписки значимо отразилось на метрике ARPPU в тестовой группе \n",
    "\n",
    "-Изменение стоимости премиум-подписки не привело к увеличению конверсии пользователей в премиум\n",
    "\n",
    "**Был ли эксперимент успешен в целом?**\n",
    "\n",
    "В целом эксперимент можно назвать успешным, если рассматриваемая метрика - увеличение средней выручки на платящего пользователя. При этом нужно учитывать, что конверсия снизилась(c 4,4% до 3,4%) и в некоторой степени это нивелирует позитивный эффект от повышения ARPPU."
   ]
  }
 ],
 "metadata": {
  "kernelspec": {
   "display_name": "Python 3 (ipykernel)",
   "language": "python",
   "name": "python3"
  },
  "language_info": {
   "codemirror_mode": {
    "name": "ipython",
    "version": 3
   },
   "file_extension": ".py",
   "mimetype": "text/x-python",
   "name": "python",
   "nbconvert_exporter": "python",
   "pygments_lexer": "ipython3",
   "version": "3.12.0"
  }
 },
 "nbformat": 4,
 "nbformat_minor": 5
}
